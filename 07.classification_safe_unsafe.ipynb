{
 "cells": [
  {
   "cell_type": "code",
   "execution_count": null,
   "id": "982090a2-9516-44b1-ae92-757a6f9f14ad",
   "metadata": {},
   "outputs": [],
   "source": [
    "import trueskill as ts"
   ]
  },
  {
   "cell_type": "code",
   "execution_count": null,
   "id": "c5a54626-177b-4e76-9912-ec42271eb539",
   "metadata": {},
   "outputs": [],
   "source": [
    "import argparse\n",
    "import json\n",
    "import geopandas as gpd\n",
    "import matplotlib.pyplot as plt\n",
    "import os\n",
    "import osmnx as ox\n",
    "import pandas as pd\n",
    "import numpy as np\n",
    "import requests\n",
    "from tqdm import tqdm, trange\n",
    "import glob\n",
    "from sklearn.svm import NuSVR\n",
    "from sklearn.pipeline import make_pipeline\n",
    "from sklearn.preprocessing import StandardScaler, MinMaxScaler\n",
    "from os import path\n",
    "\n",
    "# spectral clustering\n",
    "from sklearn.datasets import make_classification\n",
    "from sklearn.cluster import SpectralClustering\n",
    "from sklearn.cluster import KMeans\n",
    "from sklearn.cluster import MiniBatchKMeans\n",
    "from sklearn.mixture import GaussianMixture\n",
    "from sklearn.cluster import AgglomerativeClustering\n",
    "from sklearn.cluster import Birch\n",
    "from sklearn.cluster import DBSCAN\n",
    "from sklearn.decomposition import PCA\n",
    "\n",
    "import numpy as np\n",
    "import os\n",
    "import pandas as pd\n",
    "import pickle\n",
    "\n",
    "import xgboost as xgb\n",
    "from sklearn.model_selection import train_test_split\n",
    "from sklearn.model_selection import RandomizedSearchCV\n",
    "from sklearn.utils import class_weight\n",
    "from sklearn.metrics import confusion_matrix"
   ]
  },
  {
   "cell_type": "code",
   "execution_count": null,
   "id": "6ba13459-2596-451b-93b1-82bd48b68651",
   "metadata": {},
   "outputs": [],
   "source": [
    "_RANDOM_STATE = 2"
   ]
  },
  {
   "cell_type": "markdown",
   "id": "5a3939b9-3bba-4e6e-9369-a94f3b5e6fc6",
   "metadata": {},
   "source": [
    "# Data"
   ]
  },
  {
   "cell_type": "markdown",
   "id": "b4387b2d-e4e2-4924-b2cf-b80822922384",
   "metadata": {},
   "source": [
    "## Deep Features"
   ]
  },
  {
   "cell_type": "code",
   "execution_count": null,
   "id": "5c22bce0-2bd6-4722-a998-c7701699f21e",
   "metadata": {},
   "outputs": [],
   "source": [
    "deep_features_file = os.path.join('data', 'berlin_inceptionv3.csv')"
   ]
  },
  {
   "cell_type": "code",
   "execution_count": null,
   "id": "516c3602-b7d4-4077-8e2a-7b3ddf800878",
   "metadata": {},
   "outputs": [],
   "source": [
    "data_deep = pd.read_csv(deep_features_file)"
   ]
  },
  {
   "cell_type": "code",
   "execution_count": null,
   "id": "aca32523-80b4-475c-80d8-93fc1c5f4aee",
   "metadata": {},
   "outputs": [],
   "source": [
    "# Unpack features since they are in [[...]] object\n",
    "data_deep['features'] = data_deep['features'].apply(lambda x: np.array(eval(x)), 0).apply(lambda x: x[0])"
   ]
  },
  {
   "cell_type": "code",
   "execution_count": null,
   "id": "7fdd6473-35b1-4395-9f87-510deb490da3",
   "metadata": {},
   "outputs": [],
   "source": [
    "data_deep['image_i'] = data_deep.image.str.replace('/mnt/datasets/mapillary/berlin/', '').str.replace('.jpg', '').astype(int)"
   ]
  },
  {
   "cell_type": "code",
   "execution_count": null,
   "id": "7a8357a7-abe8-4ed3-9b57-57a230819440",
   "metadata": {},
   "outputs": [],
   "source": [
    "data_deep = data_deep.copy()\n",
    "data_deep = data_deep.set_index('image_i')"
   ]
  },
  {
   "cell_type": "markdown",
   "id": "861bac61-35ad-4dde-942f-c238a5b0bc26",
   "metadata": {},
   "source": [
    "## Scores data"
   ]
  },
  {
   "cell_type": "code",
   "execution_count": null,
   "id": "24b1d1b5-891b-4ae9-a765-6365eabc1a8a",
   "metadata": {},
   "outputs": [],
   "source": [
    "comparisons = pickle.load(open('data/comparisons_berlin.p', 'rb'))\n",
    "print(comparisons.shape)"
   ]
  },
  {
   "cell_type": "code",
   "execution_count": null,
   "id": "6592af47-02db-4309-95b4-e96d8301dce5",
   "metadata": {},
   "outputs": [],
   "source": [
    "X_train, X_test, = train_test_split(comparisons, test_size=0.15, random_state=_RANDOM_STATE)\n",
    "print('Train:', X_train.shape)\n",
    "print('Test:', X_test.shape)"
   ]
  },
  {
   "cell_type": "code",
   "execution_count": null,
   "id": "c3408d97-5e43-4dd0-a4c1-dfa0d299915b",
   "metadata": {},
   "outputs": [],
   "source": [
    "images_list = pd.unique(comparisons[['image_l', 'image_r']].values.ravel('K'))"
   ]
  },
  {
   "cell_type": "code",
   "execution_count": null,
   "id": "e68c8c0b-f1a6-435d-b745-b3e6c4936a5b",
   "metadata": {},
   "outputs": [],
   "source": [
    "unique_images = pd.unique(comparisons[['image_l', 'image_r']].values.ravel('K'))"
   ]
  },
  {
   "cell_type": "markdown",
   "id": "842c4f6b-5aae-43fd-8dba-2ec777965b20",
   "metadata": {},
   "source": [
    "# TrueSkill"
   ]
  },
  {
   "cell_type": "markdown",
   "id": "0f2fa2f3-8161-4e94-b818-ffc43007d13d",
   "metadata": {
    "tags": []
   },
   "source": [
    "## Initialize TrueSkill scores"
   ]
  },
  {
   "cell_type": "code",
   "execution_count": null,
   "id": "c2344578-0893-42ef-b523-9e79e99a8ca8",
   "metadata": {
    "tags": []
   },
   "outputs": [],
   "source": [
    "scores = {}\n",
    "\n",
    "for image in unique_images:\n",
    "    scores[image] = ts.Rating()"
   ]
  },
  {
   "cell_type": "markdown",
   "id": "a986a3bd-062e-4495-a424-0f18b3872e4d",
   "metadata": {},
   "source": [
    "## Compute scores based on comparisons"
   ]
  },
  {
   "cell_type": "code",
   "execution_count": null,
   "id": "cb46d178-49c5-4c1c-b26a-7ed2f586cbbd",
   "metadata": {},
   "outputs": [],
   "source": [
    "for i, row in X_train.iterrows():\n",
    "    # Define the players in this round\n",
    "    player1 = scores[row['image_l']]\n",
    "    player2 = scores[row['image_r']]\n",
    "    \n",
    "    # Process match\n",
    "    if row['score'] == -1:\n",
    "        score = [0, 1]\n",
    "    elif row['score'] == 0:\n",
    "        score = [0, 0]\n",
    "    elif row['score'] == 1:\n",
    "        score = [1, 0]\n",
    "    \n",
    "    [player1], [player2] = ts.rate([[player1], [player2]], ranks=score)\n",
    "\n",
    "    # Update scores\n",
    "    scores[row['image_l']] = player1\n",
    "    scores[row['image_r']] = player2"
   ]
  },
  {
   "cell_type": "markdown",
   "id": "658e9b55-4b6d-43ad-a38c-1c9c797e9e82",
   "metadata": {},
   "source": [
    "## Organize data scores"
   ]
  },
  {
   "cell_type": "code",
   "execution_count": null,
   "id": "8777a132-6768-4356-b61c-b0fdb86a1d6b",
   "metadata": {},
   "outputs": [],
   "source": [
    "scores_df = pd.DataFrame(scores).T\n",
    "scores_df.columns = ['score', 'sigma']"
   ]
  },
  {
   "cell_type": "code",
   "execution_count": null,
   "id": "16277512-21f1-4ab1-bdc1-ce46095d43aa",
   "metadata": {},
   "outputs": [],
   "source": [
    "scores_df.index = scores_df.index.astype(int)"
   ]
  },
  {
   "cell_type": "code",
   "execution_count": null,
   "id": "5893e75f-7679-4857-b14a-91cfa0975f0f",
   "metadata": {},
   "outputs": [],
   "source": [
    "scores_df = pickle.load(open('output/trueskill_scores_SEED1.p', 'rb'))\n",
    "scores_df.index = scores_df.index.astype(int)"
   ]
  },
  {
   "cell_type": "code",
   "execution_count": null,
   "id": "549d48b4-3012-4596-8d70-8064ba0de225",
   "metadata": {},
   "outputs": [],
   "source": [
    "scores_df = scores_df[scores_df.sigma <= 5.2]\n",
    "scores_df.shape"
   ]
  },
  {
   "cell_type": "markdown",
   "id": "f8bbed25-6540-43eb-a255-b90ebc9110b5",
   "metadata": {},
   "source": [
    "## Intersect deepfeatures data and scores"
   ]
  },
  {
   "cell_type": "code",
   "execution_count": null,
   "id": "30f582d2-4835-4b30-938a-053044006a5c",
   "metadata": {},
   "outputs": [],
   "source": [
    "intersection_deep = data_deep.index.intersection(scores_df.index)"
   ]
  },
  {
   "cell_type": "code",
   "execution_count": null,
   "id": "4a6aec9c-838a-4ff0-aeb7-a9c3ad4284b7",
   "metadata": {},
   "outputs": [],
   "source": [
    "data_deep = data_deep.loc[intersection_deep]\n",
    "scores_df_deep = scores_df.loc[intersection_deep]\n",
    "\n",
    "print(scores_df_deep.shape, data_deep.shape)"
   ]
  },
  {
   "cell_type": "code",
   "execution_count": null,
   "id": "9587c968-02e4-4b49-a671-bc6fd039b90c",
   "metadata": {},
   "outputs": [],
   "source": [
    "X = np.stack(data_deep['features'].to_numpy())\n",
    "X_std = StandardScaler().fit_transform(X)\n",
    "y = MinMaxScaler().fit_transform(scores_df_deep[['score']])[:, 0]\n",
    "#data_name = 'all'\n",
    "#data_segment = data_segments[0]# data_segments[0][1:]\n",
    "#X = data_context[data_segment].fillna(0)\n",
    "#X_std = StandardScaler().fit_transform(X)\n",
    "#X = pd.DataFrame(X_std, index=X.index, columns=X.columns)\n",
    "#y = MinMaxScaler().fit_transform(scores_df_deep[['score']])[:, 0]"
   ]
  },
  {
   "cell_type": "code",
   "execution_count": null,
   "id": "3a6e6221-19d1-4747-acb3-63933f84bb8c",
   "metadata": {},
   "outputs": [],
   "source": [
    "mask_3 = y > y.mean()+y.std()\n",
    "mask_1 = y < y.mean()-y.std()\n",
    "mask_2 = ~mask_3 & ~mask_1\n"
   ]
  },
  {
   "cell_type": "code",
   "execution_count": null,
   "id": "185d750b-0caa-462b-b1b9-6fc5522c190b",
   "metadata": {},
   "outputs": [],
   "source": [
    "y[mask_3] = 3\n",
    "y[mask_2] = 2\n",
    "y[mask_1] = 1\n",
    "y"
   ]
  },
  {
   "cell_type": "code",
   "execution_count": null,
   "id": "9b4ff9c8-301b-41ec-86b2-c4744e7976ca",
   "metadata": {},
   "outputs": [],
   "source": [
    "unique, counts = np.unique(y, return_counts=True)"
   ]
  },
  {
   "cell_type": "code",
   "execution_count": null,
   "id": "9a7187c0-ddb2-49e9-b0e1-3a153da85cae",
   "metadata": {},
   "outputs": [],
   "source": [
    "counts"
   ]
  },
  {
   "cell_type": "code",
   "execution_count": null,
   "id": "4c1380e7-1574-43e9-8c57-fd3cbfbeddc5",
   "metadata": {},
   "outputs": [],
   "source": []
  },
  {
   "cell_type": "code",
   "execution_count": null,
   "id": "4ad1eb09-fce6-4b42-b434-5fc508d34553",
   "metadata": {
    "tags": []
   },
   "outputs": [],
   "source": [
    "%%time\n",
    "results = {}\n",
    "\n",
    "X_train, X_test, y_train, y_test = train_test_split(X, y, \n",
    "                                                    # random_state=2, \n",
    "                                                   )\n",
    "\n",
    "X_subset = X_train\n",
    "y_subset = y_train\n",
    "\n",
    "# NuSVR\n",
    "print('Estimating model.')\n",
    "reg = xgb.XGBRegressor()\n",
    "svm_random = RandomizedSearchCV(estimator=reg, \n",
    "                                param_distributions={'n_estimators':  [int(x) for x in np.linspace(start=10, stop=200, num=11)] ,\n",
    "                                                     'max_depth':     [int(x) for x in np.linspace(start=1, stop=5, num=5)],\n",
    "                                                     'learning_rate': [0.1, 0.05, 0.01],\n",
    "                                                     'subsample': [0.5, 0.3, .2, 0.1],\n",
    "                                                     'colsample_bytree': [0.5, 0.3, .2, 0.1],\n",
    "                                                    }, \n",
    "                                n_iter=100, \n",
    "                                cv=7, \n",
    "                                verbose=2, n_jobs=-1)\n",
    "\n",
    "#reg = NuSVR()\n",
    "#svm_random = RandomizedSearchCV(estimator=reg, \n",
    "#                                param_distributions={'nu': [.5],\n",
    "#                                                     'C':  [.01],\n",
    "#                                                     'kernel': ['rbf'],\n",
    "#                                                    }, \n",
    "#                                n_iter=1, \n",
    "#                                cv=5, \n",
    "#                                verbose=3, n_jobs=-1)\n",
    "\n",
    "svm_random.fit(X, y)\n",
    "\n",
    "# Save model results\n",
    "#results[data_name] = {}\n",
    "#results[data_name]['best_params'] = svm_random.best_params_\n",
    "\n",
    "# Save model\n",
    "#results[data_name]['regression_object'] = svm_random.best_estimator_\n",
    "\n",
    "# Save score\n",
    "#results[data_name]['score'] = svm_random.score(X_subset, y_subset)\n",
    "print('Model estimated. R^2: {:.3f} / {:.3f}'.format(svm_random.best_score_, svm_random.score(X, y)))\n",
    "print('Hyperparameters:', svm_random.best_params_)\n",
    "print()\n"
   ]
  },
  {
   "cell_type": "code",
   "execution_count": null,
   "id": "88d41a7e-efb7-4aed-86b6-a6eaf156a1f7",
   "metadata": {},
   "outputs": [],
   "source": [
    "print('Model estimated. R^2: {:.3f} / {:.3f}'.format(svm_random.best_score_, svm_random.score(X, y)))\n",
    "print('Hyperparameters:', svm_random.best_params_)"
   ]
  },
  {
   "cell_type": "code",
   "execution_count": null,
   "id": "c0807a97-32bc-48d1-a1f2-dd644ec7ab8a",
   "metadata": {},
   "outputs": [],
   "source": [
    "\n",
    "plt.scatter(y, svm_random.predict(X), c='r')\n",
    "#plt.scatter(y_test, reg.predict(X_test), c='b')\n",
    "plt.xlim(y.min(), y.max())\n",
    "plt.ylim(y.min(), y.max());\n",
    "plt.plot([y.min(), y.max()], [y.min(),y.max()], 'r.', linestyle=\"--\")\n",
    "\n",
    "plt.show()"
   ]
  },
  {
   "cell_type": "code",
   "execution_count": null,
   "id": "9687603d-de67-46e1-9569-a8eaff385975",
   "metadata": {},
   "outputs": [],
   "source": []
  },
  {
   "cell_type": "code",
   "execution_count": null,
   "id": "800843c6-c15c-451f-ba52-d36323c5ee78",
   "metadata": {},
   "outputs": [],
   "source": []
  },
  {
   "cell_type": "markdown",
   "id": "ef1a5c09-eb7a-437a-9068-cbcc4ec441a0",
   "metadata": {},
   "source": [
    "# Classification"
   ]
  },
  {
   "cell_type": "code",
   "execution_count": null,
   "id": "461f1947-5167-419e-b75f-c353978064f3",
   "metadata": {},
   "outputs": [],
   "source": [
    "X = np.stack(data_deep['features'].to_numpy())\n",
    "X_std = StandardScaler().fit_transform(X)\n",
    "y = MinMaxScaler().fit_transform(scores_df_deep[['score']])[:, 0]\n",
    "#data_name = 'all'\n",
    "#data_segment = data_segments[0]# data_segments[0][1:]\n",
    "#X = data_context[data_segment].fillna(0)\n",
    "#X_std = StandardScaler().fit_transform(X)\n",
    "#X = pd.DataFrame(X_std, index=X.index, columns=X.columns)\n",
    "#y = MinMaxScaler().fit_transform(scores_df_deep[['score']])[:, 0]"
   ]
  },
  {
   "cell_type": "code",
   "execution_count": null,
   "id": "929a4035-f0f7-4c39-abd2-04eb2f3e8a18",
   "metadata": {},
   "outputs": [],
   "source": [
    "#mask_3 = y > y.mean()+y.std()\n",
    "#mask_1 = y < y.mean()-y.std()\n",
    "#mask_2 = ~mask_3 & ~mask_1\n",
    "#\n",
    "#y[mask_3] = 3\n",
    "#y[mask_2] = 2\n",
    "#y[mask_1] = 1\n",
    "#y = y-1\n",
    "\n",
    "delta = 1.\n",
    "\n",
    "mask_2 = y > y.mean() + delta * y.std()\n",
    "mask_1 = y <= y.mean() - delta * y.std()\n",
    "\n",
    "y[mask_2] = 2\n",
    "y[mask_1] = 1\n",
    "y = y[mask_1 | mask_2]\n",
    "y = y-1\n",
    "\n",
    "X = X[mask_1 | mask_2]\n",
    "\n",
    "# mask_5 =  y > y.mean() + 1.0*y.std()\n",
    "# mask_4 = (y < y.mean() + 1.0*y.std()) & (y > y.mean() + 0.5*y.std())\n",
    "# mask_3 = (y < y.mean() + 0.5*y.std()) & (y > y.mean() - 0.5*y.std())\n",
    "# mask_2 = (y < y.mean() - 0.5*y.std()) & (y > y.mean() - 1.0*y.std())\n",
    "# mask_1 =  y < y.mean() - 1.0*y.std()\n",
    "# \n",
    "# y[mask_5] = 4\n",
    "# y[mask_4] = 3\n",
    "# y[mask_3] = 0\n",
    "# y[mask_2] = 2\n",
    "# y[mask_1] = 1\n",
    "# y = y-1\n",
    "\n",
    "\n"
   ]
  },
  {
   "cell_type": "code",
   "execution_count": null,
   "id": "3fa1382d-5349-491a-ae1c-6bb63e00c799",
   "metadata": {},
   "outputs": [],
   "source": [
    "results = []"
   ]
  },
  {
   "cell_type": "code",
   "execution_count": null,
   "id": "36ea08ae-8dfe-4fdd-905e-4045dc8275c0",
   "metadata": {
    "tags": []
   },
   "outputs": [],
   "source": [
    "%%time\n",
    "\n",
    "results = []\n",
    "for _ in range(5):\n",
    "    for alpha in [1.5]: # [x for x in np.linspace(start=0, stop=3, num=21)]:\n",
    "        # Data\n",
    "        X = np.stack(data_deep['features'].to_numpy())\n",
    "        X_std = StandardScaler().fit_transform(X)\n",
    "        y = MinMaxScaler().fit_transform(scores_df_deep[['score']])[:, 0]\n",
    "\n",
    "        # Perceived Safe and Perceived Unsafe Environments\n",
    "\n",
    "        mask_2 = y > y.mean() + alpha * y.std()\n",
    "        mask_1 = y <= y.mean() - alpha * y.std()\n",
    "        y[mask_2] = 2\n",
    "        y[mask_1] = 1\n",
    "        y = y[mask_1 | mask_2]\n",
    "        y = y-1\n",
    "\n",
    "        X = X[mask_1 | mask_2]\n",
    "\n",
    "\n",
    "        # Split into training and testing\n",
    "        X_train, X_test, y_train, y_test = train_test_split(X, y, \n",
    "                                                            test_size=0.15,\n",
    "                                                            #random_state=2, \n",
    "                                                           )\n",
    "        # Class weights\n",
    "        classes_weights = class_weight.compute_sample_weight(\n",
    "            class_weight='balanced', #'balanced',{0:3, 1:.5, 2:3}, {0:3, 1:3, 2:.5, 3:.5, 4:3}\n",
    "            y=y_train[y_train!=-1] # y_train[y_train!=-1]\n",
    "        )\n",
    "\n",
    "        if y_train.shape[0] < 5:\n",
    "            break\n",
    "\n",
    "        # Estimate model and tune hyperparameters via random search\n",
    "        print('Estimating model.')\n",
    "        xgb_cl = xgb.XGBClassifier()\n",
    "        grid_search = {'n_estimators':  [int(x) for x in np.linspace(start=10, stop=200, num=11)] ,\n",
    "                       'max_depth':     [int(x) for x in np.linspace(start=1, stop=5, num=5)],\n",
    "                       'learning_rate': [0.1, 0.05, 0.01],\n",
    "                       'subsample': [0.5, 0.3, .2, 0.1],\n",
    "                       'colsample_bytree': [0.5, 0.3, .2, 0.1],\n",
    "                       #'objective': ['multi:softmax']\n",
    "                      }\n",
    "        print(\"Total amount of possibilities: {}\".format(np.prod([len(grid_search[key]) for key in grid_search])))\n",
    "\n",
    "        random = RandomizedSearchCV(estimator=xgb_cl, \n",
    "                                    param_distributions=grid_search,\n",
    "                                    n_iter=2000, \n",
    "                                    cv=5, \n",
    "                                    verbose=0, n_jobs=-1)\n",
    "\n",
    "        # Results\n",
    "        random.fit(X_train, y_train, sample_weight=classes_weights)\n",
    "        #random.fit(X_train[y_train!=-1], y_train[y_train!=-1], sample_weight=classes_weights) # \n",
    "        print('Model estimated. Score over CV: {:.3f} '.format(random.best_score_))\n",
    "        print('Score train:', random.score(X_train, y_train), 'Score test:', random.score(X_test, y_test))\n",
    "        cm = confusion_matrix(y_test, random.predict(X_test)) #columns -> predicted / Rows -> True\n",
    "        print('Hyperparameters:', random.best_params_)\n",
    "        print()\n",
    "\n",
    "        results.append({'acc_safe': cm[0,0]/cm[0, :].sum(),  \n",
    "                        'acc_unsafe': cm[1,1]/cm[1, :].sum(), \n",
    "                        'acc_overall': random.score(X_test, y_test),\n",
    "                        'alpha': alpha,\n",
    "                       })\n",
    "    results"
   ]
  },
  {
   "cell_type": "code",
   "execution_count": null,
   "id": "563e1970-d9f8-40c6-9389-ff5d36ae0dab",
   "metadata": {},
   "outputs": [],
   "source": [
    "results_df = pd.DataFrame(results)"
   ]
  },
  {
   "cell_type": "code",
   "execution_count": null,
   "id": "b80472e7-d54d-4e61-a038-bab35d3f0666",
   "metadata": {},
   "outputs": [],
   "source": [
    "results_df = results_df[results_df.alpha <= 1.7]"
   ]
  },
  {
   "cell_type": "code",
   "execution_count": null,
   "id": "3f3ca13f-ce91-47c9-b0ef-d71688f55b32",
   "metadata": {},
   "outputs": [],
   "source": [
    "import plotly.graph_objects as go\n",
    "\n",
    "# Create traces\n",
    "fig = go.Figure()\n",
    "fig.add_trace(go.Scatter(x=results_df.alpha, y=results_df.acc_overall,\n",
    "                    mode='lines', name='Overall'))\n",
    "fig.add_trace(go.Scatter(x=results_df.alpha, y=results_df.acc_unsafe,\n",
    "                    mode='lines',\n",
    "                    name='Perceived Unsafe'))\n",
    "fig.add_trace(go.Scatter(x=results_df.alpha, y=results_df.acc_safe,\n",
    "                    mode='lines',\n",
    "                    name='Perceived Safe'))\n",
    "\n",
    "                 \n",
    "\n",
    "fig.update_layout(\n",
    "    margin=dict(l=20, r=20, t=20, b=20),\n",
    "    paper_bgcolor='rgba(0,0,0,0)',\n",
    "    plot_bgcolor='rgba(0,0,0,0)',\n",
    "    width=800, height=500,\n",
    "    xaxis_title=\"α\",\n",
    "    yaxis_title=\"Accuracy\",\n",
    "    font=dict(\n",
    "        family=\"Times New Roman\",\n",
    "        size=18,\n",
    "        color=\"Black\"\n",
    "    ),\n",
    "    legend=dict(\n",
    "        yanchor=\"top\",\n",
    "        y=0.9,\n",
    "        xanchor=\"left\",\n",
    "        x=0.01\n",
    "    ),\n",
    "    \n",
    "    \n",
    ")\n",
    "fig.update_xaxes(showline=True, linewidth=2, linecolor='black', tick0=0.5, dtick=0.5)\n",
    "fig.update_yaxes(showline=True, linewidth=2, linecolor='black', tick0=0.5, dtick=0.1,\n",
    "                 showgrid=True, gridwidth=1, gridcolor='grey')\n",
    "\n",
    "fig.show()"
   ]
  },
  {
   "cell_type": "code",
   "execution_count": null,
   "id": "9384b75c-2605-4942-a409-08d2fa1aa6d3",
   "metadata": {},
   "outputs": [],
   "source": []
  },
  {
   "cell_type": "code",
   "execution_count": null,
   "id": "68240333-c50b-4d1b-a920-4570e94bec3c",
   "metadata": {},
   "outputs": [],
   "source": []
  },
  {
   "cell_type": "code",
   "execution_count": null,
   "id": "aeee7491-1e08-4add-aebe-3c7561f0b750",
   "metadata": {},
   "outputs": [],
   "source": []
  }
 ],
 "metadata": {
  "kernelspec": {
   "display_name": "Python 3 (ipykernel)",
   "language": "python",
   "name": "python3"
  },
  "language_info": {
   "codemirror_mode": {
    "name": "ipython",
    "version": 3
   },
   "file_extension": ".py",
   "mimetype": "text/x-python",
   "name": "python",
   "nbconvert_exporter": "python",
   "pygments_lexer": "ipython3",
   "version": "3.10.8"
  }
 },
 "nbformat": 4,
 "nbformat_minor": 5
}
