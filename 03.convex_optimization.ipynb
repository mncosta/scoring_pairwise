{
 "cells": [
  {
   "cell_type": "code",
   "execution_count": 1,
   "id": "f3e538ca-0b89-49cd-a055-db586c4b31c9",
   "metadata": {},
   "outputs": [],
   "source": [
    "import cvxpy as cp\n",
    "import json\n",
    "import pickle\n",
    "import numpy as np\n",
    "import os\n",
    "import pandas as pd\n",
    "from sklearn.model_selection import train_test_split"
   ]
  },
  {
   "cell_type": "code",
   "execution_count": 2,
   "id": "88634159-d580-4552-9a9f-3bcdb7e07219",
   "metadata": {},
   "outputs": [],
   "source": [
    "_RANDOM_STATE = 1"
   ]
  },
  {
   "cell_type": "markdown",
   "id": "0f32fadb-6b3e-4dc9-94b5-2d405843d028",
   "metadata": {},
   "source": [
    "# Data"
   ]
  },
  {
   "cell_type": "code",
   "execution_count": 3,
   "id": "7fcd4981-2eda-4334-ab39-774fcd3ebc10",
   "metadata": {},
   "outputs": [
    {
     "name": "stdout",
     "output_type": "stream",
     "text": [
      "(7281, 12)\n"
     ]
    }
   ],
   "source": [
    "comparisons = pickle.load(open('data/comparisons_berlin.p', 'rb'))\n",
    "print(comparisons.shape)"
   ]
  },
  {
   "cell_type": "code",
   "execution_count": 4,
   "id": "0eba4e15-db81-48ee-a3c0-0354532bb9f4",
   "metadata": {},
   "outputs": [],
   "source": [
    "comparisons_df_no_ties = comparisons[comparisons.score != 0]\n",
    "comparisons_df_ties = comparisons[comparisons.score == 0]"
   ]
  },
  {
   "cell_type": "code",
   "execution_count": 5,
   "id": "ef3d8c7a-5321-4e5b-ad92-1e5722f6b845",
   "metadata": {},
   "outputs": [],
   "source": [
    "images_list = pd.unique(comparisons[['image_l', 'image_r']].values.ravel('K'))"
   ]
  },
  {
   "cell_type": "markdown",
   "id": "22dcee2f-f979-4938-be0f-0979baec1e41",
   "metadata": {},
   "source": [
    "Split data into training and testing"
   ]
  },
  {
   "cell_type": "code",
   "execution_count": 6,
   "id": "24e0034e-05b6-4eab-aeff-64b84365ee6f",
   "metadata": {},
   "outputs": [
    {
     "name": "stdout",
     "output_type": "stream",
     "text": [
      "Train: (6188, 12)\n",
      "Test: (1093, 12)\n"
     ]
    }
   ],
   "source": [
    "X_train, X_test, = train_test_split(comparisons, test_size=0.15, random_state=_RANDOM_STATE, )# shuffle=False)\n",
    "print('Train:', X_train.shape)\n",
    "print('Test:', X_test.shape)"
   ]
  },
  {
   "cell_type": "markdown",
   "id": "ccf81ad0-314b-4146-abe7-b579f18561e2",
   "metadata": {},
   "source": [
    "Split draws"
   ]
  },
  {
   "cell_type": "markdown",
   "id": "3d7b0677-d255-45ea-b7be-e97e1b5b3c98",
   "metadata": {},
   "source": [
    "Unique images"
   ]
  },
  {
   "cell_type": "code",
   "execution_count": 7,
   "id": "e9f2c575-0d9c-41ca-8403-2862debbcc02",
   "metadata": {},
   "outputs": [],
   "source": [
    "images = pd.unique(comparisons[['image_l', 'image_r']].values.ravel('K'))"
   ]
  },
  {
   "cell_type": "markdown",
   "id": "38ea7ba2-0c27-4b13-95a6-5ac680777b31",
   "metadata": {},
   "source": [
    "# Optimization problem"
   ]
  },
  {
   "cell_type": "markdown",
   "id": "da6db891-495f-4a18-aa7f-6a001d3b54c7",
   "metadata": {},
   "source": [
    "## Create variables"
   ]
  },
  {
   "cell_type": "markdown",
   "id": "2a6aa03c-a04e-44d1-8a4e-6871d08799d0",
   "metadata": {},
   "source": [
    "$m$ : number of images \n",
    "\n",
    "$n$ : number of non-tie comparisons\n",
    "\n",
    "$x$ : image scores\n",
    "\n",
    "$t$ : auxiliar variable because of linearization"
   ]
  },
  {
   "cell_type": "code",
   "execution_count": 8,
   "id": "6a760580-5e97-496e-a087-8c61ddb29aa9",
   "metadata": {},
   "outputs": [],
   "source": [
    "m = images.shape[0]\n",
    "n = X_train.shape[0] # comparisons_df_no_ties.shape[0]\n",
    "\n",
    "x = cp.Variable(m)\n",
    "t = cp.Variable(n)"
   ]
  },
  {
   "cell_type": "code",
   "execution_count": 9,
   "id": "c8dc9dcb-7af7-486e-97bc-aecc4f2cde79",
   "metadata": {},
   "outputs": [],
   "source": [
    "bn = np.zeros((n, m))"
   ]
  },
  {
   "cell_type": "markdown",
   "id": "e84ff463-d8dd-4daa-8027-777917ec32c4",
   "metadata": {},
   "source": [
    "Create $b_n$ (non-ties comparisons)"
   ]
  },
  {
   "cell_type": "code",
   "execution_count": 10,
   "id": "5b9c451f-c3f2-4ad5-830c-5e3f5d432967",
   "metadata": {},
   "outputs": [],
   "source": [
    "i = 0\n",
    "# for _, row in comparisons_df_no_ties.iterrows():\n",
    "for _, row in X_train.iterrows():\n",
    "    # Indexes of winning and losing images\n",
    "    image_l = np.where(images == row.image_l)\n",
    "    image_r = np.where(images == row.image_r)\n",
    "\n",
    "    # Set wining and losing images in bn\n",
    "    if row.score == -1:\n",
    "        bn[i, image_l] = 1\n",
    "        bn[i, image_r] = -1\n",
    "    elif row.score == 1:\n",
    "        bn[i, image_l] = -1\n",
    "        bn[i, image_r] = 1\n",
    "    \n",
    "    i += 1"
   ]
  },
  {
   "cell_type": "markdown",
   "id": "7993760a-873b-482f-9fbe-8cbd7f19d0ea",
   "metadata": {},
   "source": [
    "Create $b_n$ for ties"
   ]
  },
  {
   "cell_type": "code",
   "execution_count": 11,
   "id": "78d4ccbd-79e0-45d5-9785-6c66fb1bf1b5",
   "metadata": {},
   "outputs": [],
   "source": [
    "# b for ties\n",
    "B = np.zeros((comparisons_df_ties.shape[0], m))\n",
    "\n",
    "i = 0\n",
    "for _, row in comparisons_df_ties.iterrows():\n",
    "    # Indexes of winning and losing images\n",
    "    image_l = np.where(images == row.image_l)\n",
    "    image_r = np.where(images == row.image_r)\n",
    "\n",
    "    # Set wining and losing images in bn\n",
    "    if row.score == 0:\n",
    "        B[i, image_l] = 1\n",
    "        B[i, image_r] = -1\n",
    "    \n",
    "    i += 1"
   ]
  },
  {
   "cell_type": "markdown",
   "id": "99bc05cf-259f-4e36-b6a9-ce534dfbb9c4",
   "metadata": {},
   "source": [
    "$e$ : error term\n",
    "\n",
    "$\\lambda_{ties}$ : weight for tie comparisons"
   ]
  },
  {
   "cell_type": "code",
   "execution_count": 12,
   "id": "3818cb36-db91-46e5-b56a-763f2a7b9eda",
   "metadata": {},
   "outputs": [],
   "source": [
    "e = 1e-10\n",
    "lambda_ties = 1"
   ]
  },
  {
   "cell_type": "markdown",
   "id": "15b52b17-c39a-4706-a69f-66a8ea7b8fae",
   "metadata": {},
   "source": [
    "## Problem's objective"
   ]
  },
  {
   "cell_type": "markdown",
   "id": "e6884672-bfa0-4026-b320-dbfead7a1f69",
   "metadata": {},
   "source": [
    "$$ 1^Tt + \\lambda_{ties} |Bx|$$\n",
    "\n"
   ]
  },
  {
   "cell_type": "code",
   "execution_count": 13,
   "id": "9718ee62-733d-48f8-a3a0-23d43a08a23e",
   "metadata": {},
   "outputs": [
    {
     "data": {
      "text/plain": [
       "((1369, 4481), (4481,))"
      ]
     },
     "execution_count": 13,
     "metadata": {},
     "output_type": "execute_result"
    }
   ],
   "source": [
    "B.shape, x.shape"
   ]
  },
  {
   "cell_type": "code",
   "execution_count": 14,
   "id": "cf2ac884-e623-4a7e-90b0-cf0dc3640ade",
   "metadata": {
    "tags": []
   },
   "outputs": [],
   "source": [
    "objective = cp.Minimize(np.ones(n).T @ t + lambda_ties * np.ones(comparisons_df_ties.shape[0]).T @ cp.abs(B @ x))\n",
    "# objective = cp.Minimize(np.ones(n).T @ t)"
   ]
  },
  {
   "cell_type": "markdown",
   "id": "e2900647-9218-4cc8-bd7d-cedc61300131",
   "metadata": {},
   "source": [
    "## Problem's constraints"
   ]
  },
  {
   "cell_type": "code",
   "execution_count": 15,
   "id": "312af076-01cf-48ba-85f6-e87f4040d6ba",
   "metadata": {},
   "outputs": [],
   "source": [
    "constraints = []"
   ]
  },
  {
   "cell_type": "markdown",
   "id": "9e20b986-6904-4220-881a-d6c1f89729d8",
   "metadata": {},
   "source": [
    "$$1^Tx = 0$$"
   ]
  },
  {
   "cell_type": "code",
   "execution_count": 16,
   "id": "5091362a-a48c-4498-9604-cb745d8fb604",
   "metadata": {},
   "outputs": [],
   "source": [
    "constraints.append(np.ones(m).T @ x == 0)"
   ]
  },
  {
   "cell_type": "markdown",
   "id": "c728399e-ac09-49d8-a181-6a51373c585f",
   "metadata": {},
   "source": [
    "$$\\epsilon - b_nx <= t$$"
   ]
  },
  {
   "cell_type": "code",
   "execution_count": 17,
   "id": "bc7c4b64-e82d-4125-ad77-bef6f9c417a6",
   "metadata": {},
   "outputs": [],
   "source": [
    "constraints.append(e - bn @ x <= t)"
   ]
  },
  {
   "cell_type": "markdown",
   "id": "2b25b7ff-2dce-47f9-91e1-ddbb77cca4cb",
   "metadata": {},
   "source": [
    "$$0<=t$$"
   ]
  },
  {
   "cell_type": "code",
   "execution_count": 18,
   "id": "7763b355-e096-4f17-a647-4813a3125b36",
   "metadata": {},
   "outputs": [],
   "source": [
    "constraints.append(0 <= t)"
   ]
  },
  {
   "cell_type": "markdown",
   "id": "e2a81149-315d-4d31-af5b-d881ae93c5c7",
   "metadata": {},
   "source": [
    "## Problem"
   ]
  },
  {
   "cell_type": "code",
   "execution_count": 19,
   "id": "cee880ef-ed1c-4be1-9406-c2f3e02153a6",
   "metadata": {},
   "outputs": [],
   "source": [
    "prob = cp.Problem(objective, constraints)"
   ]
  },
  {
   "cell_type": "markdown",
   "id": "4628123d-611d-4069-8087-92266fbdf961",
   "metadata": {},
   "source": [
    "## Solve"
   ]
  },
  {
   "cell_type": "code",
   "execution_count": 20,
   "id": "bace2a97-4548-4495-98c1-b0dd170bbe14",
   "metadata": {},
   "outputs": [
    {
     "name": "stdout",
     "output_type": "stream",
     "text": [
      "3.15087703229256e-19\n"
     ]
    }
   ],
   "source": [
    "result = prob.solve()\n",
    "print(constraints[0].dual_value)"
   ]
  },
  {
   "cell_type": "markdown",
   "id": "6d2dce4f-1178-4df7-90f9-5a6bdae4d28c",
   "metadata": {},
   "source": [
    "$$ \n",
    "x\n",
    "$$"
   ]
  },
  {
   "cell_type": "markdown",
   "id": "0f0bab1a-6542-445a-b921-21956241a220",
   "metadata": {},
   "source": [
    "$$ \n",
    "t\n",
    "$$"
   ]
  },
  {
   "cell_type": "code",
   "execution_count": 21,
   "id": "acd934d0-1540-49e7-adbd-d0b5885882e6",
   "metadata": {},
   "outputs": [
    {
     "name": "stdout",
     "output_type": "stream",
     "text": [
      "[-3.40274170e-13 -3.29404290e-13 -3.38624037e-13 ... -3.51525460e-13\n",
      " -3.55168311e-13  4.98520517e-11]\n"
     ]
    }
   ],
   "source": [
    "print(t.value)"
   ]
  },
  {
   "cell_type": "markdown",
   "id": "11dd3afc-698d-4cc9-9fbf-205d0aca5903",
   "metadata": {},
   "source": [
    "# Scores"
   ]
  },
  {
   "cell_type": "code",
   "execution_count": 22,
   "id": "c4eabcee-7338-4dc8-9b8c-19f98a635a7a",
   "metadata": {},
   "outputs": [],
   "source": [
    "scores_df = pd.DataFrame(x.value, index=images).rename(columns={0: 'score'})"
   ]
  },
  {
   "cell_type": "code",
   "execution_count": 23,
   "id": "388f34a3-6ea6-4941-8763-e14e1bd2d0ea",
   "metadata": {},
   "outputs": [],
   "source": [
    "scores_df['image_path'] = images\n",
    "scores_df['image_path'] = scores_df['image_path'].apply(lambda x: os.path.join('images', 'berlin', str(x) + '.jpg' ))"
   ]
  },
  {
   "cell_type": "code",
   "execution_count": 24,
   "id": "0de3db29-78b2-4ac3-909d-b4a491f69460",
   "metadata": {},
   "outputs": [],
   "source": [
    "scores_df['image'] = images"
   ]
  },
  {
   "cell_type": "markdown",
   "id": "e61dd476-0ab3-44ff-b48a-a61fd81b5309",
   "metadata": {},
   "source": [
    "# Metrics"
   ]
  },
  {
   "cell_type": "code",
   "execution_count": 25,
   "id": "ff58a6ef-41ea-45e7-a3c7-e15a13298275",
   "metadata": {},
   "outputs": [],
   "source": [
    "def compute_probabilities(rating_a, rating_b, tie_margin=0):\n",
    "    tie_margin = np.exp(tie_margin)\n",
    "    probability_a = np.exp(rating_a)/(np.exp(rating_a) + tie_margin * np.exp(rating_b))\n",
    "    probability_b = np.exp(rating_b)/(np.exp(rating_b) + tie_margin * np.exp(rating_a))\n",
    "    probability_tie = ((tie_margin**2 - 1) * (np.exp(rating_a)*np.exp(rating_b))) / ((np.exp(rating_a) + tie_margin * np.exp(rating_b)) * (np.exp(rating_b) + tie_margin * np.exp(rating_a)))\n",
    "\n",
    "    return probability_a, probability_b, probability_tie\n"
   ]
  },
  {
   "cell_type": "code",
   "execution_count": 26,
   "id": "9084180c-6acb-491a-a7bc-4b1a1e667bbe",
   "metadata": {},
   "outputs": [],
   "source": [
    "# WITHOUT TIES\n",
    "def compute_probabilities(rating_a, rating_b):\n",
    "    probability_a = np.exp(rating_a)/(np.exp(rating_a) + np.exp(rating_b))\n",
    "    probability_b = np.exp(rating_b)/(np.exp(rating_b) + np.exp(rating_a))\n",
    "\n",
    "    return probability_a, probability_b   \n",
    "\n",
    "# WITH TIES\n",
    "#def compute_probabilities(rating_a, rating_b, tie_margin=0):\n",
    "#    tie_margin = np.exp(tie_margin)\n",
    "#    probability_a = np.exp(rating_a)/(np.exp(rating_a) + tie_margin * np.exp(rating_b))\n",
    "#    probability_b = np.exp(rating_b)/(np.exp(rating_b) + tie_margin * np.exp(rating_a))\n",
    "#    probability_tie = ((tie_margin**2 - 1) * (np.exp(rating_a)*np.exp(rating_b))) / ((np.exp(rating_a) + tie_margin * np.exp(rating_b)) * (np.exp(rating_b) + tie_margin * np.exp(rating_a)))\n",
    "#\n",
    "#    return probability_a, probability_b, probability_tie\n"
   ]
  },
  {
   "cell_type": "code",
   "execution_count": 27,
   "id": "bf8215fb-fd09-48e3-b7fb-e51368af0861",
   "metadata": {},
   "outputs": [],
   "source": [
    "def compute_logloss(df):\n",
    "    log_loss = []\n",
    "    \n",
    "    for i, row in df.iterrows():\n",
    "        #p_win, p_los, p_tie = compute_probabilities(scores_df.loc[row.Winner].score, scores_df.loc[row.Loser].score, tie_margin=.2)\n",
    "        p_win, p_los = compute_probabilities(scores_df.loc[row.Winner].score, scores_df.loc[row.Loser].score)\n",
    "\n",
    "        if row.score == -1 or row.score == 1:\n",
    "            log_loss.append(np.log(p_win))\n",
    "        else:\n",
    "            log_loss.append(np.log(p_tie))\n",
    "    \n",
    "    return log_loss"
   ]
  },
  {
   "cell_type": "code",
   "execution_count": 28,
   "id": "4a759193-e999-4012-8730-cae764d4d934",
   "metadata": {},
   "outputs": [],
   "source": [
    "def compute_accuracy(df):\n",
    "    accuracy = []\n",
    "    \n",
    "    for i, row in df.iterrows():\n",
    "        #p_win, p_los, p_tie = compute_probabilities(scores_df.loc[row.Winner].score, scores_df.loc[row.Loser].score, tie_margin=.2)\n",
    "        p_win, p_los = compute_probabilities(scores_df.loc[row.Winner].score, scores_df.loc[row.Loser].score)\n",
    "\n",
    "        if row.score == -1 or row.score == 1:\n",
    "            if p_win > p_los:\n",
    "                accuracy.append(1) \n",
    "            else:\n",
    "                accuracy.append(0)\n",
    "\n",
    "    return accuracy"
   ]
  },
  {
   "cell_type": "markdown",
   "id": "2193320d-d536-4235-9816-3435fa9a1091",
   "metadata": {},
   "source": [
    "### Compute metrics for training"
   ]
  },
  {
   "cell_type": "code",
   "execution_count": 29,
   "id": "b6a6c112-2465-4633-adae-3d74a0ffcd21",
   "metadata": {},
   "outputs": [],
   "source": [
    "log_loss_train = compute_logloss(X_train[X_train.score != 0])\n",
    "accuracy_train = compute_accuracy(X_train[X_train.score != 0])"
   ]
  },
  {
   "cell_type": "markdown",
   "id": "551daf0e-4565-497d-a9e5-4d104afe8e8a",
   "metadata": {},
   "source": [
    "## Test"
   ]
  },
  {
   "cell_type": "markdown",
   "id": "771f4644-5932-4812-8604-d071365335f0",
   "metadata": {},
   "source": [
    "### Compute metrics for testing"
   ]
  },
  {
   "cell_type": "code",
   "execution_count": 30,
   "id": "ac4ec5a3-4917-42a5-9e72-3e26c39f1296",
   "metadata": {},
   "outputs": [],
   "source": [
    "log_loss_test = compute_logloss(X_test[X_test.score != 0])\n",
    "accuracy_test = compute_accuracy(X_test[X_test.score != 0])"
   ]
  },
  {
   "cell_type": "markdown",
   "id": "bb9a7a1e-7a4f-46ca-b366-4f0afc748354",
   "metadata": {},
   "source": [
    "## Aggregate results"
   ]
  },
  {
   "cell_type": "code",
   "execution_count": 31,
   "id": "4c8f60ec-d721-4d44-9eb5-5185d47573ef",
   "metadata": {},
   "outputs": [
    {
     "name": "stdout",
     "output_type": "stream",
     "text": [
      "{\n",
      "    \"model\": \"cvxopt\",\n",
      "    \"train_logloss\": 0.5551159504360182,\n",
      "    \"test_logloss\": 0.6500955728193558,\n",
      "    \"train_accuracy\": 0.9775124378109453,\n",
      "    \"test_accuracy\": 0.6324689966178129,\n",
      "    \"seed\": 1\n",
      "}\n"
     ]
    }
   ],
   "source": [
    "results = {\n",
    "    'model': 'cvxopt',\n",
    "    'train_logloss': -1 * np.mean(log_loss_train),\n",
    "    'test_logloss': -1 * np.mean(log_loss_test),\n",
    "    'train_accuracy': np.mean(accuracy_train),\n",
    "    'test_accuracy': np.mean(accuracy_test),\n",
    "    'seed': _RANDOM_STATE\n",
    "}\n",
    "pickle.dump(results,  open('output/{}_modelresults_SEED{}.p'.format(results['model'], _RANDOM_STATE), 'wb'))\n",
    "print(json.dumps(results, indent=4))"
   ]
  },
  {
   "cell_type": "code",
   "execution_count": 32,
   "id": "c4e92a26-b29b-46c6-bf20-110c6bab416f",
   "metadata": {},
   "outputs": [],
   "source": [
    "pickle.dump(scores_df,  open('output/{}_scores_SEED{}.p'.format(results['model'], _RANDOM_STATE), 'wb'))"
   ]
  }
 ],
 "metadata": {
  "kernelspec": {
   "display_name": "Python 3 (ipykernel)",
   "language": "python",
   "name": "python3"
  },
  "language_info": {
   "codemirror_mode": {
    "name": "ipython",
    "version": 3
   },
   "file_extension": ".py",
   "mimetype": "text/x-python",
   "name": "python",
   "nbconvert_exporter": "python",
   "pygments_lexer": "ipython3",
   "version": "3.10.8"
  }
 },
 "nbformat": 4,
 "nbformat_minor": 5
}
