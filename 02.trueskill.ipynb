{
 "cells": [
  {
   "cell_type": "code",
   "execution_count": 1,
   "id": "dd398d40-e441-4878-aa2b-81ecd04945d7",
   "metadata": {},
   "outputs": [],
   "source": [
    "import itertools\n",
    "import json\n",
    "import math\n",
    "import numpy as np\n",
    "import os\n",
    "import pickle\n",
    "import pandas as pd\n",
    "from sklearn.model_selection import train_test_split\n",
    "import trueskill as ts"
   ]
  },
  {
   "cell_type": "code",
   "execution_count": 2,
   "id": "6f3e6bcb-99e4-4eaa-bf61-64fcc026e505",
   "metadata": {},
   "outputs": [],
   "source": [
    "_RANDOM_STATE = 1"
   ]
  },
  {
   "cell_type": "markdown",
   "id": "d5a2da7a-a951-4275-9ebe-8317c81805b4",
   "metadata": {
    "tags": []
   },
   "source": [
    "# Data"
   ]
  },
  {
   "cell_type": "code",
   "execution_count": 3,
   "id": "03792513-84d7-41e2-8bb0-55169798eeb9",
   "metadata": {},
   "outputs": [
    {
     "name": "stdout",
     "output_type": "stream",
     "text": [
      "(7281, 12)\n"
     ]
    }
   ],
   "source": [
    "comparisons = pickle.load(open('data/comparisons_berlin.p', 'rb'))\n",
    "print(comparisons.shape)"
   ]
  },
  {
   "cell_type": "markdown",
   "id": "6ea1ea82-79e7-46dd-aa7e-7699602bc171",
   "metadata": {},
   "source": [
    "Split data into training and testing"
   ]
  },
  {
   "cell_type": "code",
   "execution_count": 4,
   "id": "540fd040-fc82-4d4c-b074-085412a2bce0",
   "metadata": {},
   "outputs": [
    {
     "name": "stdout",
     "output_type": "stream",
     "text": [
      "Train: (6188, 12)\n",
      "Test: (1093, 12)\n"
     ]
    }
   ],
   "source": [
    "X_train, X_test, = train_test_split(comparisons, test_size=0.15, random_state=_RANDOM_STATE, )# shuffle=False)\n",
    "print('Train:', X_train.shape)\n",
    "print('Test:', X_test.shape)"
   ]
  },
  {
   "cell_type": "code",
   "execution_count": 5,
   "id": "11bc1851-13d2-44d5-912e-5621d7c197ef",
   "metadata": {},
   "outputs": [],
   "source": [
    "unique_images = pd.unique(comparisons[['image_l', 'image_r']].values.ravel('K'))"
   ]
  },
  {
   "cell_type": "markdown",
   "id": "d8d63730-367e-4691-afad-68b66099b56e",
   "metadata": {},
   "source": [
    "# TrueSkill"
   ]
  },
  {
   "cell_type": "markdown",
   "id": "627202c9-cb44-43dc-aad6-8508d33a9b2b",
   "metadata": {
    "tags": []
   },
   "source": [
    "## Initialize TrueSkill scores"
   ]
  },
  {
   "cell_type": "code",
   "execution_count": 6,
   "id": "18393669-2979-4cea-9269-2067bf8ea81e",
   "metadata": {
    "tags": []
   },
   "outputs": [],
   "source": [
    "scores = {}\n",
    "\n",
    "for image in unique_images:\n",
    "    scores[image] = ts.Rating()"
   ]
  },
  {
   "cell_type": "markdown",
   "id": "06206f9a-f187-428a-9299-dc5340e6884f",
   "metadata": {},
   "source": [
    "## Compute scores based on comparisons"
   ]
  },
  {
   "cell_type": "code",
   "execution_count": 7,
   "id": "cf3102c5-658d-4731-aeae-912223853282",
   "metadata": {},
   "outputs": [],
   "source": [
    "for i, row in X_train.iterrows():\n",
    "    # Define the players in this round\n",
    "    player1 = scores[row['image_l']]\n",
    "    player2 = scores[row['image_r']]\n",
    "    \n",
    "    # Process match\n",
    "    if row['score'] == -1:\n",
    "        score = [0, 1]\n",
    "    elif row['score'] == 0:\n",
    "        score = [0, 0]\n",
    "    elif row['score'] == 1:\n",
    "        score = [1, 0]\n",
    "    \n",
    "    [player1], [player2] = ts.rate([[player1], [player2]], ranks=score)\n",
    "\n",
    "    # Update scores\n",
    "    scores[row['image_l']] = player1\n",
    "    scores[row['image_r']] = player2"
   ]
  },
  {
   "cell_type": "markdown",
   "id": "30402795-a409-4b78-a32d-a9ef97d6fb68",
   "metadata": {},
   "source": [
    "## Organize data scores"
   ]
  },
  {
   "cell_type": "code",
   "execution_count": 8,
   "id": "75791d41-bf89-4c8a-affc-4600b72bb264",
   "metadata": {},
   "outputs": [],
   "source": [
    "scores_df = pd.DataFrame(scores).T\n",
    "scores_df.columns = ['score', 'sigma']"
   ]
  },
  {
   "cell_type": "markdown",
   "id": "28fea6af-8751-4813-9f8d-acc86caf5d0f",
   "metadata": {},
   "source": [
    "Get image paths"
   ]
  },
  {
   "cell_type": "code",
   "execution_count": 9,
   "id": "a80fe297-8ab2-49b0-b3ad-4b200eb3997c",
   "metadata": {},
   "outputs": [],
   "source": [
    "scores_df['image_path'] = scores_df.index\n",
    "scores_df['image'] = scores_df.index"
   ]
  },
  {
   "cell_type": "code",
   "execution_count": 10,
   "id": "d9f15bb8-39a9-43fd-bae1-e8b96df13f12",
   "metadata": {},
   "outputs": [],
   "source": [
    "scores_df['image_path'] = scores_df['image_path'].apply(lambda x: os.path.join('images','berlin', x + '.jpg' ))"
   ]
  },
  {
   "cell_type": "markdown",
   "id": "4c3ea95e-799d-45c0-9d2e-a1b3383ed874",
   "metadata": {},
   "source": [
    "# Metrics"
   ]
  },
  {
   "cell_type": "code",
   "execution_count": 11,
   "id": "19e0e8e7-ba9c-4869-aa4f-92a74d48be1a",
   "metadata": {},
   "outputs": [],
   "source": [
    "def compute_probabilities(team1, team2):\n",
    "    BETA = ts.BETA\n",
    "    delta_mu = sum(r.mu for r in team1) - sum(r.mu for r in team2)\n",
    "    sum_sigma = sum(r.sigma ** 2 for r in itertools.chain(team1, team2))\n",
    "    size = len(team1) + len(team2)\n",
    "    denom = math.sqrt(size * (BETA * BETA) + sum_sigma)\n",
    "    ts_ = ts.global_env()\n",
    "    return ts_.cdf(delta_mu / denom), 1 - ts_.cdf(delta_mu / denom)"
   ]
  },
  {
   "cell_type": "code",
   "execution_count": 12,
   "id": "cfaac35e-70c5-441d-8440-2ee5ea1bf3a5",
   "metadata": {},
   "outputs": [],
   "source": [
    "def compute_logloss(df):\n",
    "    log_loss = []\n",
    "    for i, row in df.iterrows():\n",
    "        p_win, p_los = compute_probabilities([scores[row.Winner]], [scores[row.Loser]])\n",
    "\n",
    "        if row.score == -1 or row.score == 1:\n",
    "            log_loss.append(np.log(p_win))\n",
    "        #else:\n",
    "        #    log_loss_train.append(np.log(p_tie))\n",
    "    \n",
    "    return log_loss"
   ]
  },
  {
   "cell_type": "code",
   "execution_count": 13,
   "id": "c4498d66-9637-46e5-a3d6-48d004b4c3cc",
   "metadata": {},
   "outputs": [],
   "source": [
    "def compute_accuracy(df):\n",
    "    accuracy = []\n",
    "    \n",
    "    for i, row in df.iterrows():\n",
    "        p_win, p_los = compute_probabilities([scores[row.Winner]], [scores[row.Loser]])\n",
    "    \n",
    "        if row.score == -1 or row.score == 1:\n",
    "            accuracy.append(int(p_win > p_los))\n",
    "    \n",
    "    return accuracy"
   ]
  },
  {
   "cell_type": "markdown",
   "id": "bf8d8e1d-6ac1-4392-9fac-678fb35f2f5b",
   "metadata": {},
   "source": [
    "#### Compute metrics for training"
   ]
  },
  {
   "cell_type": "code",
   "execution_count": 14,
   "id": "21b59912-056f-49a7-80ac-349dc7291697",
   "metadata": {},
   "outputs": [],
   "source": [
    "log_loss_train = compute_logloss(X_train[X_train.score != 0])\n",
    "accuracy_train = compute_accuracy(X_train[X_train.score != 0])"
   ]
  },
  {
   "cell_type": "markdown",
   "id": "6f013ad3-d675-4f78-b078-a6cffc7b37a4",
   "metadata": {},
   "source": [
    "#### Compute metrics for testing"
   ]
  },
  {
   "cell_type": "code",
   "execution_count": 15,
   "id": "9c5653fe-83d7-4715-a173-25e519fdc1c9",
   "metadata": {},
   "outputs": [],
   "source": [
    "log_loss_test = compute_logloss(X_test[X_test.score != 0])\n",
    "accuracy_test = compute_accuracy(X_test[X_test.score != 0])"
   ]
  },
  {
   "cell_type": "markdown",
   "id": "79b7db86-9dce-40cf-aa96-53c89d3f7367",
   "metadata": {},
   "source": [
    "## Aggregate results"
   ]
  },
  {
   "cell_type": "code",
   "execution_count": 16,
   "id": "214ea64c-2e00-474f-aacf-e24eeed8787e",
   "metadata": {},
   "outputs": [
    {
     "name": "stdout",
     "output_type": "stream",
     "text": [
      "{\n",
      "    \"model\": \"trueskill\",\n",
      "    \"train_logloss\": 0.3040553592309069,\n",
      "    \"test_logloss\": 0.6266570490429713,\n",
      "    \"train_accuracy\": 0.9383084577114428,\n",
      "    \"test_accuracy\": 0.6538895152198422,\n",
      "    \"seed\": 1\n",
      "}\n"
     ]
    }
   ],
   "source": [
    "results = {\n",
    "    'model': 'trueskill',\n",
    "    'train_logloss': -1 * np.mean(log_loss_train),\n",
    "    'test_logloss': -1 * np.mean(log_loss_test),\n",
    "    'train_accuracy': np.mean(accuracy_train),\n",
    "    'test_accuracy': np.mean(accuracy_test),\n",
    "    'seed': _RANDOM_STATE\n",
    "}\n",
    "pickle.dump(results,  open('output/{}_modelresults_SEED{}.p'.format(results['model'], _RANDOM_STATE), 'wb'))\n",
    "print(json.dumps(results, indent=4))"
   ]
  },
  {
   "cell_type": "code",
   "execution_count": 17,
   "id": "6718961f-5929-4b7d-a0c6-9f0e212baffb",
   "metadata": {},
   "outputs": [],
   "source": [
    "pickle.dump(scores_df,  open('output/{}_scores_SEED{}.p'.format(results['model'], _RANDOM_STATE), 'wb'))"
   ]
  }
 ],
 "metadata": {
  "kernelspec": {
   "display_name": "Python 3 (ipykernel)",
   "language": "python",
   "name": "python3"
  },
  "language_info": {
   "codemirror_mode": {
    "name": "ipython",
    "version": 3
   },
   "file_extension": ".py",
   "mimetype": "text/x-python",
   "name": "python",
   "nbconvert_exporter": "python",
   "pygments_lexer": "ipython3",
   "version": "3.10.8"
  }
 },
 "nbformat": 4,
 "nbformat_minor": 5
}
