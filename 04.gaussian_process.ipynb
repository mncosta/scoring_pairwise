{
 "cells": [
  {
   "cell_type": "code",
   "execution_count": 1,
   "id": "475d4075-f6d0-4cb2-b0b7-72d1945edc4f",
   "metadata": {},
   "outputs": [],
   "source": [
    "import json\n",
    "import kickscore as ks\n",
    "import numpy as np\n",
    "import os\n",
    "import pandas as pd\n",
    "import pickle\n",
    "from sklearn.model_selection import train_test_split"
   ]
  },
  {
   "cell_type": "code",
   "execution_count": 2,
   "id": "ef7721b8-07eb-4e62-a8fb-a2daa9679146",
   "metadata": {},
   "outputs": [],
   "source": [
    "_RANDOM_STATE = 5"
   ]
  },
  {
   "cell_type": "markdown",
   "id": "1d6c0ae3-2a14-433b-ac04-fe271ffcb776",
   "metadata": {},
   "source": [
    "# Data"
   ]
  },
  {
   "cell_type": "code",
   "execution_count": 3,
   "id": "2fe898cc-a45a-4207-8722-c82b641118be",
   "metadata": {},
   "outputs": [
    {
     "name": "stdout",
     "output_type": "stream",
     "text": [
      "(7281, 12)\n"
     ]
    }
   ],
   "source": [
    "comparisons = pickle.load(open('data/comparisons_berlin.p', 'rb'))\n",
    "print(comparisons.shape)"
   ]
  },
  {
   "cell_type": "code",
   "execution_count": 4,
   "id": "e7f0c3f4-08d9-4f85-82fd-6ce7fd03e824",
   "metadata": {},
   "outputs": [],
   "source": [
    "images_list = pd.unique(comparisons[['image_l', 'image_r']].values.ravel('K'))"
   ]
  },
  {
   "cell_type": "markdown",
   "id": "e21840d2-d644-4dc7-a072-48dabaa3bc9d",
   "metadata": {},
   "source": [
    "Split data into training and testing"
   ]
  },
  {
   "cell_type": "code",
   "execution_count": 5,
   "id": "711a0f7f-d885-40bb-a112-179890d84a71",
   "metadata": {},
   "outputs": [
    {
     "name": "stdout",
     "output_type": "stream",
     "text": [
      "Train: (6188, 12)\n",
      "Test: (1093, 12)\n"
     ]
    }
   ],
   "source": [
    "X_train, X_test, = train_test_split(comparisons, test_size=0.15, random_state=_RANDOM_STATE, )# shuffle=False)\n",
    "print('Train:', X_train.shape)\n",
    "print('Test:', X_test.shape)"
   ]
  },
  {
   "cell_type": "code",
   "execution_count": 6,
   "id": "31a06588-0833-44c4-82ca-d5ae44baf243",
   "metadata": {},
   "outputs": [],
   "source": [
    "images = set()\n",
    "observations = list()\n",
    "\n",
    "for i, row in X_train.reset_index().iterrows():\n",
    "    t = i\n",
    "    images.add(row.image_l)\n",
    "    images.add(row.image_r)\n",
    "    \n",
    "    if row.score == -1:\n",
    "        observations.append({\n",
    "                'winners': [row.image_l],\n",
    "                'losers': [row.image_r],\n",
    "                #'tie': False,\n",
    "                't': t,\n",
    "            })\n",
    "    if row.score == 0:\n",
    "        observations.append({\n",
    "                'winners': [row.image_l],\n",
    "                'losers': [row.image_r],\n",
    "                'tie': True,\n",
    "                't': t,\n",
    "            })\n",
    "    if row.score == 1:\n",
    "        observations.append({\n",
    "                'winners': [row.image_r],\n",
    "                'losers': [row.image_l],\n",
    "                #'tie': False,\n",
    "                't': t,\n",
    "            })"
   ]
  },
  {
   "cell_type": "markdown",
   "id": "839a921e-221b-4925-8303-1392f1704af3",
   "metadata": {},
   "source": [
    "# Gaussian Process"
   ]
  },
  {
   "cell_type": "markdown",
   "id": "884d2488-9518-48ab-94d5-44404cdc80d9",
   "metadata": {},
   "source": [
    "## Model"
   ]
  },
  {
   "cell_type": "code",
   "execution_count": 7,
   "id": "2944630a-e842-4f69-9595-72b0434abc05",
   "metadata": {},
   "outputs": [],
   "source": [
    "model = ks.TernaryModel(margin=0.2)"
   ]
  },
  {
   "cell_type": "markdown",
   "id": "bc3b54e8-1130-4a7b-bebc-db085a055b08",
   "metadata": {},
   "source": [
    "## Kernel "
   ]
  },
  {
   "cell_type": "code",
   "execution_count": 8,
   "id": "318dbd2b-bad9-42b4-9296-4f146865c3c7",
   "metadata": {},
   "outputs": [],
   "source": [
    "kernel = (ks.kernel.Constant(var=0.03))"
   ]
  },
  {
   "cell_type": "markdown",
   "id": "12ef9e27-e664-46b8-8b67-518975b9c11f",
   "metadata": {},
   "source": [
    "## Set items"
   ]
  },
  {
   "cell_type": "code",
   "execution_count": 9,
   "id": "923bc02b-182b-4696-a76c-e87eaf99de20",
   "metadata": {},
   "outputs": [],
   "source": [
    "for image in images:\n",
    "    model.add_item(image, kernel=kernel)"
   ]
  },
  {
   "cell_type": "markdown",
   "id": "33d3777e-e73b-492a-ba92-9232d92a7cf8",
   "metadata": {},
   "source": [
    "## Set comparisons"
   ]
  },
  {
   "cell_type": "code",
   "execution_count": 10,
   "id": "9213dca1-d818-41f2-bb1c-c5990307cd94",
   "metadata": {},
   "outputs": [],
   "source": [
    "for obs in observations:\n",
    "    model.observe(**obs)"
   ]
  },
  {
   "cell_type": "markdown",
   "id": "2340e66e-e83e-408d-84de-ea78142c0cb4",
   "metadata": {},
   "source": [
    "## Train"
   ]
  },
  {
   "cell_type": "code",
   "execution_count": 11,
   "id": "90c1e837-eb52-4072-bfe5-b6573613778b",
   "metadata": {},
   "outputs": [
    {
     "name": "stdout",
     "output_type": "stream",
     "text": [
      "Model has converged.\n",
      "CPU times: user 9.16 s, sys: 87.9 ms, total: 9.24 s\n",
      "Wall time: 9.33 s\n"
     ]
    }
   ],
   "source": [
    "%%time\n",
    "converged = model.fit()\n",
    "if converged:\n",
    "    print(\"Model has converged.\")"
   ]
  },
  {
   "cell_type": "markdown",
   "id": "3da12adf-b66f-49fa-b8de-c6cba889fe24",
   "metadata": {},
   "source": [
    "### Scores"
   ]
  },
  {
   "cell_type": "code",
   "execution_count": 12,
   "id": "8de0e225-b6fc-44be-adbd-bce78acd8021",
   "metadata": {},
   "outputs": [],
   "source": [
    "ts = [comparisons.shape[0] ]  # Point in time at which you want to make the prediction.\n",
    "res = dict()  # Contains predicted score.\n",
    "\n",
    "scores = []\n",
    "for name, item in model.item.items():\n",
    "    means, var = item.predict(ts)\n",
    "    scores += [[name, means[0], var[0]]]\n",
    "\n",
    "scores = pd.DataFrame(scores, columns=['image', 'score', 'var'])\n",
    "\n",
    "scores_df = scores.sort_values(by='image').reset_index(drop=True)\n",
    "#for rank, (name, score) in enumerate(sorted(res.items(), key=lambda x: x[1], reverse=True), start=1):\n",
    "#    print(f\"rank {rank}: {name} (score: {score:.2f}\")"
   ]
  },
  {
   "cell_type": "code",
   "execution_count": 13,
   "id": "34edce7e-2c76-4763-8642-3fc0faf76cb9",
   "metadata": {},
   "outputs": [],
   "source": [
    "scores_df = scores_df.set_index('image', drop=False)\n",
    "scores_df.index.name = None"
   ]
  },
  {
   "cell_type": "code",
   "execution_count": 14,
   "id": "234b56b3-b047-4b13-8137-8c14b2e39994",
   "metadata": {
    "tags": []
   },
   "outputs": [],
   "source": [
    "scores_df['image_path'] = scores_df['image']\n",
    "scores_df['image_path'] = scores_df['image_path'].apply(lambda x: os.path.join('images','berlin', str(x) + '.jpg' ))"
   ]
  },
  {
   "cell_type": "markdown",
   "id": "0fb4711c-7007-4f53-b766-607ca2bda392",
   "metadata": {},
   "source": [
    "# Metrics"
   ]
  },
  {
   "cell_type": "code",
   "execution_count": 15,
   "id": "ac4f591c-ef1d-49eb-aef9-8f4d54143ade",
   "metadata": {},
   "outputs": [],
   "source": [
    "def compute_logloss(df):\n",
    "    log_loss = []\n",
    "    \n",
    "    for i, row in df.iterrows():\n",
    "        try:\n",
    "            p_win, p_tie, p_los = model.probabilities([row.Winner], [row.Loser], t=comparisons.shape[0])\n",
    "\n",
    "            if row.score == -1 or row.score == 1:\n",
    "                log_loss.append(np.log(p_win))\n",
    "            else:    \n",
    "                log_loss.append(np.log(p_tie))  \n",
    "        except KeyError:\n",
    "            continue    \n",
    "    return log_loss"
   ]
  },
  {
   "cell_type": "code",
   "execution_count": 16,
   "id": "52177700-fb2a-4a90-a052-d8f0f308bc97",
   "metadata": {},
   "outputs": [],
   "source": [
    "def compute_accuracy(df):\n",
    "    accuracy = []\n",
    "    \n",
    "    for i, row in df.iterrows():\n",
    "        try:\n",
    "            p_win, p_tie, p_los = model.probabilities([row.Winner], [row.Loser], t=comparisons.shape[0])\n",
    "\n",
    "            if row.score == -1 or row.score == 1:\n",
    "                if p_win > p_los and p_win > p_tie:\n",
    "                    accuracy.append(1) \n",
    "                else:\n",
    "                    accuracy.append(0) \n",
    "            else:  \n",
    "                if p_tie > p_los and p_tie > p_win:\n",
    "                    accuracy.append(1) \n",
    "                else:\n",
    "                    accuracy.append(0) \n",
    "        except KeyError:\n",
    "            continue\n",
    "    return accuracy"
   ]
  },
  {
   "cell_type": "markdown",
   "id": "83eddc20-a389-4c51-9e84-2ab323123756",
   "metadata": {},
   "source": [
    "### Compute metrics for training"
   ]
  },
  {
   "cell_type": "code",
   "execution_count": 17,
   "id": "4a200752-c6ce-45e6-ad58-23b2a1a51bb9",
   "metadata": {},
   "outputs": [],
   "source": [
    "log_loss_train = compute_logloss(X_train[X_train.score != 0])\n",
    "accuracy_train = compute_accuracy(X_train[X_train.score != 0])"
   ]
  },
  {
   "cell_type": "markdown",
   "id": "dc5e6a92-206e-4f11-87e6-2b6c67371522",
   "metadata": {},
   "source": [
    "## Test"
   ]
  },
  {
   "cell_type": "markdown",
   "id": "6198b7b3-833f-4e18-8a56-98b93fcb6a73",
   "metadata": {},
   "source": [
    "### Compute metrics for testing"
   ]
  },
  {
   "cell_type": "code",
   "execution_count": 18,
   "id": "38ee75b7-99c6-4ecf-b53b-ce0f0f982acd",
   "metadata": {},
   "outputs": [],
   "source": [
    "log_loss_test = compute_logloss(X_test[X_test.score != 0])\n",
    "accuracy_test = compute_accuracy(X_test[X_test.score != 0])"
   ]
  },
  {
   "cell_type": "markdown",
   "id": "3a4a190b-445e-41e0-bf93-39eabf686707",
   "metadata": {},
   "source": [
    "## Aggregate results"
   ]
  },
  {
   "cell_type": "code",
   "execution_count": 19,
   "id": "3072c0c8-7dbd-4be6-8ddf-b42aca4ef93d",
   "metadata": {},
   "outputs": [
    {
     "name": "stdout",
     "output_type": "stream",
     "text": [
      "{\n",
      "    \"model\": \"gaussianprocess\",\n",
      "    \"train_logloss\": 0.7966539920858491,\n",
      "    \"test_logloss\": 0.8385269418911184,\n",
      "    \"train_accuracy\": 0.9186555290373906,\n",
      "    \"test_accuracy\": 0.6654411764705882,\n",
      "    \"seed\": 5\n",
      "}\n"
     ]
    }
   ],
   "source": [
    "results = {\n",
    "    'model': 'gaussianprocess',\n",
    "    'train_logloss': -1 * np.mean(log_loss_train),\n",
    "    'test_logloss': -1 * np.mean(log_loss_test),\n",
    "    'train_accuracy': np.mean(accuracy_train),\n",
    "    'test_accuracy': np.mean(accuracy_test),\n",
    "    'seed': _RANDOM_STATE\n",
    "}\n",
    "pickle.dump(results,  open('output/{}_modelresults_SEED{}.p'.format(results['model'], _RANDOM_STATE), 'wb'))\n",
    "print(json.dumps(results, indent=4))"
   ]
  },
  {
   "cell_type": "code",
   "execution_count": 20,
   "id": "09f44ad0-f142-4fbe-b82d-eb5fe428b15f",
   "metadata": {},
   "outputs": [],
   "source": [
    "pickle.dump(scores_df,  open('output/{}_scores_SEED{}.p'.format(results['model'], _RANDOM_STATE), 'wb'))"
   ]
  },
  {
   "cell_type": "code",
   "execution_count": null,
   "id": "579d02bd-c607-4420-96b0-00c19f28c413",
   "metadata": {},
   "outputs": [],
   "source": []
  }
 ],
 "metadata": {
  "kernelspec": {
   "display_name": "Python 3 (ipykernel)",
   "language": "python",
   "name": "python3"
  },
  "language_info": {
   "codemirror_mode": {
    "name": "ipython",
    "version": 3
   },
   "file_extension": ".py",
   "mimetype": "text/x-python",
   "name": "python",
   "nbconvert_exporter": "python",
   "pygments_lexer": "ipython3",
   "version": "3.10.8"
  }
 },
 "nbformat": 4,
 "nbformat_minor": 5
}
