{
 "cells": [
  {
   "cell_type": "code",
   "execution_count": 1,
   "id": "9882a514-479a-48ec-91e3-bac1585d6c2c",
   "metadata": {},
   "outputs": [],
   "source": [
    "import json\n",
    "import numpy as np\n",
    "import os\n",
    "import pandas as pd\n",
    "import pickle\n",
    "from sklearn.model_selection import train_test_split"
   ]
  },
  {
   "cell_type": "code",
   "execution_count": 2,
   "id": "86b65c48-d02e-4c3c-83ec-e44fbf268408",
   "metadata": {},
   "outputs": [],
   "source": [
    "_RANDOM_STATE = 1"
   ]
  },
  {
   "cell_type": "markdown",
   "id": "48659ba1-b182-4f46-8db3-7350759230ed",
   "metadata": {},
   "source": [
    "# Data"
   ]
  },
  {
   "cell_type": "code",
   "execution_count": 3,
   "id": "df479688-6ebc-4f6c-8715-372b0fd7544a",
   "metadata": {},
   "outputs": [
    {
     "name": "stdout",
     "output_type": "stream",
     "text": [
      "(7281, 12)\n"
     ]
    }
   ],
   "source": [
    "comparisons = pickle.load(open('data/comparisons_berlin.p', 'rb'))\n",
    "print(comparisons.shape)"
   ]
  },
  {
   "cell_type": "markdown",
   "id": "6397050b-1671-40de-9cd4-c5c72c43250f",
   "metadata": {},
   "source": [
    "Split data into training and testing"
   ]
  },
  {
   "cell_type": "code",
   "execution_count": 4,
   "id": "47ac1e35-0d3a-4a20-9351-d714311a1418",
   "metadata": {},
   "outputs": [],
   "source": [
    "X_train, X_test, = train_test_split(comparisons, test_size=0.15, random_state=_RANDOM_STATE, )# shuffle=False)"
   ]
  },
  {
   "cell_type": "markdown",
   "id": "4d7cd07d-e3d6-43c9-9c96-443aaed67c42",
   "metadata": {},
   "source": [
    "# Original Elo"
   ]
  },
  {
   "cell_type": "code",
   "execution_count": 5,
   "id": "dda926bd-9d48-4c7d-936b-94997745fd3e",
   "metadata": {},
   "outputs": [],
   "source": [
    "class OriginalELo(object):\n",
    "    def __init__(self, k_factor, elo_width, starting_elo):\n",
    "        self.k_factor = k_factor\n",
    "        self.elo_width = elo_width\n",
    "        self.starting_elo = starting_elo\n",
    "        self.items = set()\n",
    "        self.items_elo = dict()\n",
    "        \n",
    "    def initialize_items(self, items):\n",
    "        \"\"\"Initialize the items available to `items`.\"\"\"\n",
    "        self.items = set(items)\n",
    "    \n",
    "    def initialize_elos(self, ):\n",
    "        \"\"\"Set the initial starting elo for all available items.\"\"\"\n",
    "        for item in self.items:\n",
    "            self.items_elo[item] = self.starting_elo\n",
    "    \n",
    "    def expected_result(self, elo_a, elo_b):\n",
    "        \"\"\"Expected probability of item with elo_a winning vs. item with elo_b.\"\"\"\n",
    "        \n",
    "        expect_a = 1.0/(1+10**((elo_b - elo_a)/self.elo_width))\n",
    "        return expect_a\n",
    "    \n",
    "    def update_elo(self, winner_elo, loser_elo, tie=False):\n",
    "        \"\"\"Update elo for the winning item and losing item.\"\"\"\n",
    "        \n",
    "        R = 1\n",
    "        if tie:\n",
    "            R = .5\n",
    "        \n",
    "        expected_win = self.expected_result(winner_elo, loser_elo)  \n",
    "        change_in_elo = self.k_factor * (R-expected_win)\n",
    "        \n",
    "        winner_elo += change_in_elo\n",
    "        loser_elo -= change_in_elo\n",
    "        return winner_elo, loser_elo\n",
    "    \n",
    "    def add_comparison(self, w_item, l_item, tie=False):\n",
    "        \"\"\"Process comparison between winning item and losing item.\"\"\"\n",
    "        current_winner_elo = self.items_elo[w_item]\n",
    "        current_loser_elo = self.items_elo[l_item]\n",
    "        \n",
    "        updated_winner_elo, updated_loser_elo = self.update_elo(current_winner_elo, current_loser_elo, tie=tie)\n",
    "        \n",
    "        self.items_elo[w_item] = updated_winner_elo\n",
    "        self.items_elo[l_item] = updated_loser_elo\n",
    "        "
   ]
  },
  {
   "cell_type": "markdown",
   "id": "f0d2d0cd-75b5-47be-8716-cb845cd4fc87",
   "metadata": {},
   "source": [
    "## Initialize Elo"
   ]
  },
  {
   "cell_type": "code",
   "execution_count": 6,
   "id": "31f457e4-c7df-4b1f-af0d-2df1b885ce3d",
   "metadata": {},
   "outputs": [],
   "source": [
    "starting_elo = 1500\n",
    "elo_width = 400\n",
    "k_factor = 32\n",
    "\n",
    "elo = OriginalELo(k_factor=k_factor, \n",
    "                  elo_width=elo_width, \n",
    "                  starting_elo=starting_elo)"
   ]
  },
  {
   "cell_type": "markdown",
   "id": "6fb4006a-a741-41c0-963c-576dca075e75",
   "metadata": {},
   "source": [
    "### Initialize Elo items"
   ]
  },
  {
   "cell_type": "code",
   "execution_count": 7,
   "id": "9113bb9b-d206-4e6b-bd37-dc58c5e1a1d9",
   "metadata": {},
   "outputs": [],
   "source": [
    "elo.initialize_items(list(comparisons.Winner.values) + list(comparisons.Loser.values))"
   ]
  },
  {
   "cell_type": "markdown",
   "id": "aac15b3e-0fed-4dd0-8383-931e57063b18",
   "metadata": {},
   "source": [
    "### Initialize items ratings"
   ]
  },
  {
   "cell_type": "code",
   "execution_count": 8,
   "id": "0fdbb335-422e-42f5-859f-75d1d22346eb",
   "metadata": {},
   "outputs": [],
   "source": [
    "elo.initialize_elos()"
   ]
  },
  {
   "cell_type": "markdown",
   "id": "ff5869c2-e546-402a-9c70-fed6024a22d7",
   "metadata": {},
   "source": [
    "## Training"
   ]
  },
  {
   "cell_type": "markdown",
   "id": "66c60d33-f114-49e2-a952-f81e02e418e8",
   "metadata": {},
   "source": [
    "### Compute ratings"
   ]
  },
  {
   "cell_type": "code",
   "execution_count": 9,
   "id": "83479f1f-da54-41c7-b38c-0c1bff51aa22",
   "metadata": {},
   "outputs": [],
   "source": [
    "for i, row in X_train.iterrows():\n",
    "    w_item = row.Winner\n",
    "    l_item = row.Loser \n",
    "    tie = True if row.Tie else False\n",
    "    \n",
    "    elo.add_comparison(w_item, l_item, tie=tie)    "
   ]
  },
  {
   "cell_type": "markdown",
   "id": "74b909ab-9cef-4c01-8729-0a712d0f0c9b",
   "metadata": {},
   "source": [
    "### Show ratings"
   ]
  },
  {
   "cell_type": "code",
   "execution_count": 10,
   "id": "ca35e63c-70dd-440b-a133-3abd5026011f",
   "metadata": {},
   "outputs": [],
   "source": [
    "scores = []\n",
    "\n",
    "for item, item_elo in elo.items_elo.items():\n",
    "    scores.append({\n",
    "        'score': item_elo,\n",
    "        'image': item,\n",
    "        'image_path': os.path.join('images','berlin', item + '.jpg' )\n",
    "    })\n",
    "scores_df = pd.DataFrame(scores).set_index('image', drop=False)"
   ]
  },
  {
   "cell_type": "markdown",
   "id": "f999831d-0b30-4874-9244-ade24a31a3fa",
   "metadata": {},
   "source": [
    "## Metrics"
   ]
  },
  {
   "cell_type": "code",
   "execution_count": 11,
   "id": "bdf7c255-dc45-4e36-9227-58a5184e8555",
   "metadata": {},
   "outputs": [],
   "source": [
    "def compute_probabilities(elo_a, elo_b, allow_ties=False):\n",
    "    \"\"\"\n",
    "    Expected probabilities of winning, drawing, or losing.\n",
    "    Reference for draws formula: `Mathematical Model of Ranking Accuracy and Popularity Promotion`\n",
    "    https://www.researchgate.net/publication/309662241_Mathematical_Model_of_Ranking_Accuracy_and_Popularity_Promotion\n",
    "    \"\"\"\n",
    "      \n",
    "    p_win = 1. / (1+10**((-elo_a + elo_b)/elo_width))\n",
    "    p_los = 1. / (1+10**((elo_a - elo_b)/elo_width))\n",
    "    \n",
    "    if allow_ties:\n",
    "        p_tie = (1 / (np.sqrt(2 * np.pi) * np.e)) * np.exp(-1 * (( (elo_a-elo_b)/(elo_width/2) )**2) / (2*np.e**2))\n",
    "        p_win = p_win - 0.5 * p_tie  \n",
    "        p_los = p_los - 0.5 * p_tie\n",
    "        \n",
    "        return  p_win, p_los, p_tie\n",
    "\n",
    "    return p_win, p_los"
   ]
  },
  {
   "cell_type": "code",
   "execution_count": 12,
   "id": "6195ec78-466f-4b0f-83e7-b4629c371705",
   "metadata": {},
   "outputs": [],
   "source": [
    "def compute_logloss(df):\n",
    "    log_loss = []\n",
    "    for i, row in df.iterrows():\n",
    "        # p_win, p_los, p_tie = compute_probabilities(elo.items_elo[row.Winner], elo.items_elo[row.Loser])\n",
    "        p_win, p_los = compute_probabilities(elo.items_elo[row.Winner], elo.items_elo[row.Loser])\n",
    "\n",
    "        if row.score == -1 or row.score == 1:\n",
    "            log_loss.append(np.log(p_win))\n",
    "        else:\n",
    "            log_loss.append(np.log(p_tie))\n",
    "    \n",
    "    return log_loss"
   ]
  },
  {
   "cell_type": "code",
   "execution_count": 13,
   "id": "8c6af880-bd1f-44cb-ab90-24bfa41f0360",
   "metadata": {},
   "outputs": [],
   "source": [
    "def compute_accuracy(df):\n",
    "    accuracy = []\n",
    "    \n",
    "    for i, row in df.iterrows():\n",
    "        # p_win, p_los, p_tie = compute_probabilities(elo.items_elo[row.Winner], elo.items_elo[row.Loser])\n",
    "        p_win, p_los = compute_probabilities(elo.items_elo[row.Winner], elo.items_elo[row.Loser])\n",
    "\n",
    "        if row.score == -1 or row.score == 1:\n",
    "            accuracy.append(int(p_win > p_los))\n",
    "        else:\n",
    "            accuracy.append(int(p_win > p_los))\n",
    "    \n",
    "    return accuracy"
   ]
  },
  {
   "cell_type": "markdown",
   "id": "8a55cd29-b955-4954-baf0-92fd3766a3b5",
   "metadata": {},
   "source": [
    "#### Compute metrics for training"
   ]
  },
  {
   "cell_type": "code",
   "execution_count": 14,
   "id": "bfd04aea-0522-4a3f-87e1-955a07aa67d8",
   "metadata": {},
   "outputs": [],
   "source": [
    "log_loss_train = compute_logloss(X_train[X_train.score != 0])\n",
    "accuracy_train = compute_accuracy(X_train[X_train.score != 0])"
   ]
  },
  {
   "cell_type": "markdown",
   "id": "5d476562-5481-4153-96ad-3d1d06cfba79",
   "metadata": {},
   "source": [
    "## Testing"
   ]
  },
  {
   "cell_type": "markdown",
   "id": "b8bfec27-56fd-4d02-9d87-9c4fabbb7056",
   "metadata": {},
   "source": [
    "#### Compute metrics for testing"
   ]
  },
  {
   "cell_type": "code",
   "execution_count": 15,
   "id": "8cdeb517-3277-4831-9875-8ef360cca4ed",
   "metadata": {},
   "outputs": [],
   "source": [
    "log_loss_test = compute_logloss(X_test[X_test.score != 0])\n",
    "accuracy_test = compute_accuracy(X_test[X_test.score != 0])"
   ]
  },
  {
   "cell_type": "markdown",
   "id": "3bf2fce9-e5aa-41ef-963d-bdf63b4bccfd",
   "metadata": {},
   "source": [
    "## Aggregate results"
   ]
  },
  {
   "cell_type": "code",
   "execution_count": 16,
   "id": "c8161ed4-0632-4903-9bb1-2acda24f30b1",
   "metadata": {},
   "outputs": [
    {
     "name": "stdout",
     "output_type": "stream",
     "text": [
      "{\n",
      "    \"model\": \"elo\",\n",
      "    \"train_logloss\": 0.5802742696389508,\n",
      "    \"test_logloss\": 0.6584216675828181,\n",
      "    \"train_accuracy\": 0.9046766169154229,\n",
      "    \"test_accuracy\": 0.6561443066516347,\n",
      "    \"seed\": 1\n",
      "}\n"
     ]
    }
   ],
   "source": [
    "results = {\n",
    "    'model': 'elo',\n",
    "    'train_logloss': -1 * np.mean(log_loss_train),\n",
    "    'test_logloss': -1 * np.mean(log_loss_test),\n",
    "    'train_accuracy': np.mean(accuracy_train),\n",
    "    'test_accuracy': np.mean(accuracy_test),\n",
    "    'seed': _RANDOM_STATE\n",
    "}\n",
    "pickle.dump(results,  open('output/{}_modelresults_SEED{}.p'.format(results['model'], _RANDOM_STATE), 'wb'))\n",
    "print(json.dumps(results, indent=4))"
   ]
  },
  {
   "cell_type": "code",
   "execution_count": 17,
   "id": "4fc51f49-19bb-458e-99ba-52cfa30dff42",
   "metadata": {},
   "outputs": [],
   "source": [
    "pickle.dump(scores_df,  open('output/{}_scores_SEED{}.p'.format(results['model'], _RANDOM_STATE), 'wb'))"
   ]
  }
 ],
 "metadata": {
  "kernelspec": {
   "display_name": "Python 3 (ipykernel)",
   "language": "python",
   "name": "python3"
  },
  "language_info": {
   "codemirror_mode": {
    "name": "ipython",
    "version": 3
   },
   "file_extension": ".py",
   "mimetype": "text/x-python",
   "name": "python",
   "nbconvert_exporter": "python",
   "pygments_lexer": "ipython3",
   "version": "3.10.8"
  }
 },
 "nbformat": 4,
 "nbformat_minor": 5
}
