{
 "cells": [
  {
   "cell_type": "code",
   "execution_count": 1,
   "id": "788943cc-4939-4140-bea8-3d2e67261dfe",
   "metadata": {},
   "outputs": [],
   "source": [
    "import choix\n",
    "import json\n",
    "import networkx as nx\n",
    "import numpy as np\n",
    "import os\n",
    "import pandas as pd\n",
    "import pickle\n",
    "from sklearn.model_selection import train_test_split"
   ]
  },
  {
   "cell_type": "code",
   "execution_count": 2,
   "id": "4911e6ca-8bd9-4520-ae7a-8bbf61e275d2",
   "metadata": {},
   "outputs": [],
   "source": [
    "_RANDOM_STATE = 5"
   ]
  },
  {
   "cell_type": "markdown",
   "id": "1d828520-7d54-4801-bc67-80f3f1f98b60",
   "metadata": {},
   "source": [
    "# Data"
   ]
  },
  {
   "cell_type": "code",
   "execution_count": 3,
   "id": "7825b9c2-4ca8-4608-8468-fd322fe6500d",
   "metadata": {},
   "outputs": [
    {
     "name": "stdout",
     "output_type": "stream",
     "text": [
      "(7281, 12)\n"
     ]
    }
   ],
   "source": [
    "comparisons = pickle.load(open('data/comparisons_berlin.p', 'rb'))\n",
    "print(comparisons.shape)"
   ]
  },
  {
   "cell_type": "code",
   "execution_count": 4,
   "id": "125d84ba-9d17-4d04-8e03-5ff59a45746b",
   "metadata": {},
   "outputs": [],
   "source": [
    "n_items = len(pd.unique(comparisons[['image_l', 'image_r']].values.ravel('K')))"
   ]
  },
  {
   "cell_type": "code",
   "execution_count": 5,
   "id": "c9feef32-1944-4ae1-86b4-f9dc8649294d",
   "metadata": {},
   "outputs": [],
   "source": [
    "images = pd.unique(comparisons[['image_l', 'image_r']].values.ravel('K'))"
   ]
  },
  {
   "cell_type": "code",
   "execution_count": 6,
   "id": "bb3f7fb3-8037-4c2a-9ddf-9c4cb2364918",
   "metadata": {},
   "outputs": [],
   "source": [
    "images_dict = {}\n",
    "images_dict_rev = {}\n",
    "for i, image_id in enumerate(images):\n",
    "    images_dict[image_id] = i\n",
    "    images_dict_rev[i] = image_id"
   ]
  },
  {
   "cell_type": "code",
   "execution_count": 7,
   "id": "1ac9ab06-e28f-40d4-9a84-f112c90e6f7a",
   "metadata": {},
   "outputs": [],
   "source": [
    "comparisons=comparisons.replace({\"image_l\": images_dict})\n",
    "comparisons=comparisons.replace({\"image_r\": images_dict})\n",
    "comparisons=comparisons.replace({\"Winner\": images_dict})\n",
    "comparisons=comparisons.replace({\"Loser\": images_dict})"
   ]
  },
  {
   "cell_type": "code",
   "execution_count": 8,
   "id": "385ff58c-ca22-4db1-b778-d3cbc0056c24",
   "metadata": {},
   "outputs": [
    {
     "data": {
      "text/html": [
       "<div>\n",
       "<style scoped>\n",
       "    .dataframe tbody tr th:only-of-type {\n",
       "        vertical-align: middle;\n",
       "    }\n",
       "\n",
       "    .dataframe tbody tr th {\n",
       "        vertical-align: top;\n",
       "    }\n",
       "\n",
       "    .dataframe thead th {\n",
       "        text-align: right;\n",
       "    }\n",
       "</style>\n",
       "<table border=\"1\" class=\"dataframe\">\n",
       "  <thead>\n",
       "    <tr style=\"text-align: right;\">\n",
       "      <th></th>\n",
       "      <th>index</th>\n",
       "      <th>datetime</th>\n",
       "      <th>user</th>\n",
       "      <th>image_i</th>\n",
       "      <th>image_j</th>\n",
       "      <th>score</th>\n",
       "      <th>dataset</th>\n",
       "      <th>image_l</th>\n",
       "      <th>image_r</th>\n",
       "      <th>Winner</th>\n",
       "      <th>Loser</th>\n",
       "      <th>Tie</th>\n",
       "    </tr>\n",
       "  </thead>\n",
       "  <tbody>\n",
       "    <tr>\n",
       "      <th>0</th>\n",
       "      <td>406</td>\n",
       "      <td>2022-09-06 17:13:23</td>\n",
       "      <td>cycling9334a308469b956854470ed3668c578f7c99fa3...</td>\n",
       "      <td>berlin/209.jpg</td>\n",
       "      <td>berlin/7819.jpg</td>\n",
       "      <td>1</td>\n",
       "      <td>berlin</td>\n",
       "      <td>0</td>\n",
       "      <td>3146</td>\n",
       "      <td>3146</td>\n",
       "      <td>0</td>\n",
       "      <td>0</td>\n",
       "    </tr>\n",
       "    <tr>\n",
       "      <th>1</th>\n",
       "      <td>407</td>\n",
       "      <td>2022-09-06 17:13:33</td>\n",
       "      <td>cycling9334a308469b956854470ed3668c578f7c99fa3...</td>\n",
       "      <td>berlin/210.jpg</td>\n",
       "      <td>berlin/2123.jpg</td>\n",
       "      <td>1</td>\n",
       "      <td>berlin</td>\n",
       "      <td>1</td>\n",
       "      <td>698</td>\n",
       "      <td>698</td>\n",
       "      <td>1</td>\n",
       "      <td>0</td>\n",
       "    </tr>\n",
       "    <tr>\n",
       "      <th>2</th>\n",
       "      <td>408</td>\n",
       "      <td>2022-09-06 17:13:43</td>\n",
       "      <td>cycling9334a308469b956854470ed3668c578f7c99fa3...</td>\n",
       "      <td>berlin/211.jpg</td>\n",
       "      <td>berlin/5265.jpg</td>\n",
       "      <td>-1</td>\n",
       "      <td>berlin</td>\n",
       "      <td>2</td>\n",
       "      <td>3058</td>\n",
       "      <td>2</td>\n",
       "      <td>3058</td>\n",
       "      <td>0</td>\n",
       "    </tr>\n",
       "    <tr>\n",
       "      <th>3</th>\n",
       "      <td>409</td>\n",
       "      <td>2022-09-06 17:13:52</td>\n",
       "      <td>cycling9334a308469b956854470ed3668c578f7c99fa3...</td>\n",
       "      <td>berlin/212.jpg</td>\n",
       "      <td>berlin/2024.jpg</td>\n",
       "      <td>-1</td>\n",
       "      <td>berlin</td>\n",
       "      <td>3</td>\n",
       "      <td>1117</td>\n",
       "      <td>3</td>\n",
       "      <td>1117</td>\n",
       "      <td>0</td>\n",
       "    </tr>\n",
       "    <tr>\n",
       "      <th>4</th>\n",
       "      <td>410</td>\n",
       "      <td>2022-09-06 17:14:10</td>\n",
       "      <td>cycling9334a308469b956854470ed3668c578f7c99fa3...</td>\n",
       "      <td>berlin/213.jpg</td>\n",
       "      <td>berlin/9692.jpg</td>\n",
       "      <td>1</td>\n",
       "      <td>berlin</td>\n",
       "      <td>4</td>\n",
       "      <td>3147</td>\n",
       "      <td>3147</td>\n",
       "      <td>4</td>\n",
       "      <td>0</td>\n",
       "    </tr>\n",
       "    <tr>\n",
       "      <th>...</th>\n",
       "      <td>...</td>\n",
       "      <td>...</td>\n",
       "      <td>...</td>\n",
       "      <td>...</td>\n",
       "      <td>...</td>\n",
       "      <td>...</td>\n",
       "      <td>...</td>\n",
       "      <td>...</td>\n",
       "      <td>...</td>\n",
       "      <td>...</td>\n",
       "      <td>...</td>\n",
       "      <td>...</td>\n",
       "    </tr>\n",
       "    <tr>\n",
       "      <th>44259</th>\n",
       "      <td>12186</td>\n",
       "      <td>2023-05-18 23:12:16</td>\n",
       "      <td>1684450793634</td>\n",
       "      <td>berlin/1809.jpg</td>\n",
       "      <td>berlin/4312.jpg</td>\n",
       "      <td>1</td>\n",
       "      <td>berlin</td>\n",
       "      <td>587</td>\n",
       "      <td>1306</td>\n",
       "      <td>1306</td>\n",
       "      <td>587</td>\n",
       "      <td>0</td>\n",
       "    </tr>\n",
       "    <tr>\n",
       "      <th>44306</th>\n",
       "      <td>12233</td>\n",
       "      <td>2023-05-18 23:14:44</td>\n",
       "      <td>1684451648518</td>\n",
       "      <td>berlin/4313.jpg</td>\n",
       "      <td>berlin/5627.jpg</td>\n",
       "      <td>-1</td>\n",
       "      <td>berlin</td>\n",
       "      <td>1307</td>\n",
       "      <td>1848</td>\n",
       "      <td>1307</td>\n",
       "      <td>1848</td>\n",
       "      <td>0</td>\n",
       "    </tr>\n",
       "    <tr>\n",
       "      <th>44321</th>\n",
       "      <td>12248</td>\n",
       "      <td>2023-05-18 23:15:20</td>\n",
       "      <td>1684451648518</td>\n",
       "      <td>berlin/3887.jpg</td>\n",
       "      <td>berlin/4317.jpg</td>\n",
       "      <td>-1</td>\n",
       "      <td>berlin</td>\n",
       "      <td>2566</td>\n",
       "      <td>1308</td>\n",
       "      <td>2566</td>\n",
       "      <td>1308</td>\n",
       "      <td>0</td>\n",
       "    </tr>\n",
       "    <tr>\n",
       "      <th>44323</th>\n",
       "      <td>12250</td>\n",
       "      <td>2023-05-18 23:15:28</td>\n",
       "      <td>1684451648518</td>\n",
       "      <td>berlin/2900.jpg</td>\n",
       "      <td>berlin/4325.jpg</td>\n",
       "      <td>0</td>\n",
       "      <td>berlin</td>\n",
       "      <td>2502</td>\n",
       "      <td>1309</td>\n",
       "      <td>1309</td>\n",
       "      <td>2502</td>\n",
       "      <td>1</td>\n",
       "    </tr>\n",
       "    <tr>\n",
       "      <th>44325</th>\n",
       "      <td>12252</td>\n",
       "      <td>2023-05-18 23:15:34</td>\n",
       "      <td>1684451648518</td>\n",
       "      <td>berlin/4328.jpg</td>\n",
       "      <td>berlin/5395.jpg</td>\n",
       "      <td>-1</td>\n",
       "      <td>berlin</td>\n",
       "      <td>1311</td>\n",
       "      <td>2687</td>\n",
       "      <td>1311</td>\n",
       "      <td>2687</td>\n",
       "      <td>0</td>\n",
       "    </tr>\n",
       "  </tbody>\n",
       "</table>\n",
       "<p>7281 rows × 12 columns</p>\n",
       "</div>"
      ],
      "text/plain": [
       "       index             datetime  \\\n",
       "0        406  2022-09-06 17:13:23   \n",
       "1        407  2022-09-06 17:13:33   \n",
       "2        408  2022-09-06 17:13:43   \n",
       "3        409  2022-09-06 17:13:52   \n",
       "4        410  2022-09-06 17:14:10   \n",
       "...      ...                  ...   \n",
       "44259  12186  2023-05-18 23:12:16   \n",
       "44306  12233  2023-05-18 23:14:44   \n",
       "44321  12248  2023-05-18 23:15:20   \n",
       "44323  12250  2023-05-18 23:15:28   \n",
       "44325  12252  2023-05-18 23:15:34   \n",
       "\n",
       "                                                    user          image_i  \\\n",
       "0      cycling9334a308469b956854470ed3668c578f7c99fa3...   berlin/209.jpg   \n",
       "1      cycling9334a308469b956854470ed3668c578f7c99fa3...   berlin/210.jpg   \n",
       "2      cycling9334a308469b956854470ed3668c578f7c99fa3...   berlin/211.jpg   \n",
       "3      cycling9334a308469b956854470ed3668c578f7c99fa3...   berlin/212.jpg   \n",
       "4      cycling9334a308469b956854470ed3668c578f7c99fa3...   berlin/213.jpg   \n",
       "...                                                  ...              ...   \n",
       "44259                                      1684450793634  berlin/1809.jpg   \n",
       "44306                                      1684451648518  berlin/4313.jpg   \n",
       "44321                                      1684451648518  berlin/3887.jpg   \n",
       "44323                                      1684451648518  berlin/2900.jpg   \n",
       "44325                                      1684451648518  berlin/4328.jpg   \n",
       "\n",
       "               image_j  score dataset  image_l  image_r  Winner  Loser  Tie  \n",
       "0      berlin/7819.jpg      1  berlin        0     3146    3146      0    0  \n",
       "1      berlin/2123.jpg      1  berlin        1      698     698      1    0  \n",
       "2      berlin/5265.jpg     -1  berlin        2     3058       2   3058    0  \n",
       "3      berlin/2024.jpg     -1  berlin        3     1117       3   1117    0  \n",
       "4      berlin/9692.jpg      1  berlin        4     3147    3147      4    0  \n",
       "...                ...    ...     ...      ...      ...     ...    ...  ...  \n",
       "44259  berlin/4312.jpg      1  berlin      587     1306    1306    587    0  \n",
       "44306  berlin/5627.jpg     -1  berlin     1307     1848    1307   1848    0  \n",
       "44321  berlin/4317.jpg     -1  berlin     2566     1308    2566   1308    0  \n",
       "44323  berlin/4325.jpg      0  berlin     2502     1309    1309   2502    1  \n",
       "44325  berlin/5395.jpg     -1  berlin     1311     2687    1311   2687    0  \n",
       "\n",
       "[7281 rows x 12 columns]"
      ]
     },
     "execution_count": 8,
     "metadata": {},
     "output_type": "execute_result"
    }
   ],
   "source": [
    "comparisons"
   ]
  },
  {
   "cell_type": "markdown",
   "id": "6fedfb96-d31f-4def-9ab6-c21c08f3f6ec",
   "metadata": {},
   "source": [
    "Split data into training and testing"
   ]
  },
  {
   "cell_type": "code",
   "execution_count": 9,
   "id": "8f40c22f-0864-4209-8a46-5cf2ff494c3a",
   "metadata": {},
   "outputs": [],
   "source": [
    "X_train, X_test, = train_test_split(comparisons, test_size=0.15, random_state=_RANDOM_STATE, )# shuffle=False)"
   ]
  },
  {
   "cell_type": "markdown",
   "id": "23e0836a-28b9-420e-958b-b29b25215eab",
   "metadata": {},
   "source": [
    "Setup data for training"
   ]
  },
  {
   "cell_type": "code",
   "execution_count": 10,
   "id": "9efa9c21-2093-4e1a-b27f-278632027869",
   "metadata": {},
   "outputs": [],
   "source": [
    "data = []\n",
    "for i, row in X_train.iterrows():\n",
    "    if not row.Tie:\n",
    "        data.append((int(row.Winner), int(row.Loser)))\n",
    "\n",
    "    if row.Tie:\n",
    "        data.append((row.Winner, row.Loser))\n",
    "        data.append((row.Loser, row.Winner))"
   ]
  },
  {
   "cell_type": "markdown",
   "id": "3f96dab2-90b0-42d1-9798-8a0a0684adfc",
   "metadata": {},
   "source": [
    "# Rank Centrality"
   ]
  },
  {
   "cell_type": "markdown",
   "id": "1fe7b6ed-d145-49f8-82de-d0ba94bd6f8f",
   "metadata": {},
   "source": [
    "## Train"
   ]
  },
  {
   "cell_type": "code",
   "execution_count": 11,
   "id": "1b23a5bc-1c6f-4f2c-af70-ac3c83b2898c",
   "metadata": {},
   "outputs": [],
   "source": [
    "params_rc = choix.rank_centrality(n_items, data, alpha=1e-4)"
   ]
  },
  {
   "cell_type": "markdown",
   "id": "c697230e-7c12-44b3-8187-6844b6a9be25",
   "metadata": {},
   "source": [
    "### Organize scores"
   ]
  },
  {
   "cell_type": "code",
   "execution_count": 12,
   "id": "52f048a9-02c7-404b-a332-ec2f6a345049",
   "metadata": {},
   "outputs": [],
   "source": [
    "scores = []\n",
    "for i, image_scores in enumerate(params_rc):\n",
    "    scores.append({\n",
    "        'image': images_dict_rev[i], \n",
    "        'score': image_scores,\n",
    "        'image_id': images_dict_rev[i],\n",
    "        'image_path': os.path.join('..', '..', 'cycling_safety_objective', 'data_copy_from_storage','mapillary','berlin', images_dict_rev[i] + '.jpg' )\n",
    "    })\n",
    "scores_df = pd.DataFrame(scores).set_index('image', drop=False)"
   ]
  },
  {
   "cell_type": "code",
   "execution_count": 13,
   "id": "092a2603-4dd0-4e96-bde9-0703f75d82bc",
   "metadata": {},
   "outputs": [
    {
     "data": {
      "text/html": [
       "<div>\n",
       "<style scoped>\n",
       "    .dataframe tbody tr th:only-of-type {\n",
       "        vertical-align: middle;\n",
       "    }\n",
       "\n",
       "    .dataframe tbody tr th {\n",
       "        vertical-align: top;\n",
       "    }\n",
       "\n",
       "    .dataframe thead th {\n",
       "        text-align: right;\n",
       "    }\n",
       "</style>\n",
       "<table border=\"1\" class=\"dataframe\">\n",
       "  <thead>\n",
       "    <tr style=\"text-align: right;\">\n",
       "      <th></th>\n",
       "      <th>image</th>\n",
       "      <th>score</th>\n",
       "      <th>image_id</th>\n",
       "      <th>image_path</th>\n",
       "    </tr>\n",
       "    <tr>\n",
       "      <th>image</th>\n",
       "      <th></th>\n",
       "      <th></th>\n",
       "      <th></th>\n",
       "      <th></th>\n",
       "    </tr>\n",
       "  </thead>\n",
       "  <tbody>\n",
       "    <tr>\n",
       "      <th>209</th>\n",
       "      <td>209</td>\n",
       "      <td>-4.459122e-04</td>\n",
       "      <td>209</td>\n",
       "      <td>../../cycling_safety_objective/data_copy_from_...</td>\n",
       "    </tr>\n",
       "    <tr>\n",
       "      <th>210</th>\n",
       "      <td>210</td>\n",
       "      <td>-8.922514e-04</td>\n",
       "      <td>210</td>\n",
       "      <td>../../cycling_safety_objective/data_copy_from_...</td>\n",
       "    </tr>\n",
       "    <tr>\n",
       "      <th>211</th>\n",
       "      <td>211</td>\n",
       "      <td>-1.338491e-03</td>\n",
       "      <td>211</td>\n",
       "      <td>../../cycling_safety_objective/data_copy_from_...</td>\n",
       "    </tr>\n",
       "    <tr>\n",
       "      <th>212</th>\n",
       "      <td>212</td>\n",
       "      <td>-8.929934e-04</td>\n",
       "      <td>212</td>\n",
       "      <td>../../cycling_safety_objective/data_copy_from_...</td>\n",
       "    </tr>\n",
       "    <tr>\n",
       "      <th>213</th>\n",
       "      <td>213</td>\n",
       "      <td>-1.337894e-03</td>\n",
       "      <td>213</td>\n",
       "      <td>../../cycling_safety_objective/data_copy_from_...</td>\n",
       "    </tr>\n",
       "    <tr>\n",
       "      <th>...</th>\n",
       "      <td>...</td>\n",
       "      <td>...</td>\n",
       "      <td>...</td>\n",
       "      <td>...</td>\n",
       "    </tr>\n",
       "    <tr>\n",
       "      <th>9475</th>\n",
       "      <td>9475</td>\n",
       "      <td>4.467661e-04</td>\n",
       "      <td>9475</td>\n",
       "      <td>../../cycling_safety_objective/data_copy_from_...</td>\n",
       "    </tr>\n",
       "    <tr>\n",
       "      <th>9477</th>\n",
       "      <td>9477</td>\n",
       "      <td>3.274052e-07</td>\n",
       "      <td>9477</td>\n",
       "      <td>../../cycling_safety_objective/data_copy_from_...</td>\n",
       "    </tr>\n",
       "    <tr>\n",
       "      <th>9479</th>\n",
       "      <td>9479</td>\n",
       "      <td>-8.923513e-04</td>\n",
       "      <td>9479</td>\n",
       "      <td>../../cycling_safety_objective/data_copy_from_...</td>\n",
       "    </tr>\n",
       "    <tr>\n",
       "      <th>9874</th>\n",
       "      <td>9874</td>\n",
       "      <td>3.274052e-07</td>\n",
       "      <td>9874</td>\n",
       "      <td>../../cycling_safety_objective/data_copy_from_...</td>\n",
       "    </tr>\n",
       "    <tr>\n",
       "      <th>10078</th>\n",
       "      <td>10078</td>\n",
       "      <td>-4.463109e-04</td>\n",
       "      <td>10078</td>\n",
       "      <td>../../cycling_safety_objective/data_copy_from_...</td>\n",
       "    </tr>\n",
       "  </tbody>\n",
       "</table>\n",
       "<p>4481 rows × 4 columns</p>\n",
       "</div>"
      ],
      "text/plain": [
       "       image         score image_id  \\\n",
       "image                                 \n",
       "209      209 -4.459122e-04      209   \n",
       "210      210 -8.922514e-04      210   \n",
       "211      211 -1.338491e-03      211   \n",
       "212      212 -8.929934e-04      212   \n",
       "213      213 -1.337894e-03      213   \n",
       "...      ...           ...      ...   \n",
       "9475    9475  4.467661e-04     9475   \n",
       "9477    9477  3.274052e-07     9477   \n",
       "9479    9479 -8.923513e-04     9479   \n",
       "9874    9874  3.274052e-07     9874   \n",
       "10078  10078 -4.463109e-04    10078   \n",
       "\n",
       "                                              image_path  \n",
       "image                                                     \n",
       "209    ../../cycling_safety_objective/data_copy_from_...  \n",
       "210    ../../cycling_safety_objective/data_copy_from_...  \n",
       "211    ../../cycling_safety_objective/data_copy_from_...  \n",
       "212    ../../cycling_safety_objective/data_copy_from_...  \n",
       "213    ../../cycling_safety_objective/data_copy_from_...  \n",
       "...                                                  ...  \n",
       "9475   ../../cycling_safety_objective/data_copy_from_...  \n",
       "9477   ../../cycling_safety_objective/data_copy_from_...  \n",
       "9479   ../../cycling_safety_objective/data_copy_from_...  \n",
       "9874   ../../cycling_safety_objective/data_copy_from_...  \n",
       "10078  ../../cycling_safety_objective/data_copy_from_...  \n",
       "\n",
       "[4481 rows x 4 columns]"
      ]
     },
     "execution_count": 13,
     "metadata": {},
     "output_type": "execute_result"
    }
   ],
   "source": [
    "scores_df"
   ]
  },
  {
   "cell_type": "markdown",
   "id": "b3477c01-9609-45d3-bfce-df1acddc2cca",
   "metadata": {},
   "source": [
    "### Compute metrics for training"
   ]
  },
  {
   "cell_type": "code",
   "execution_count": 14,
   "id": "57370cc2-280e-4dfa-bede-3d3fbe0e2d84",
   "metadata": {},
   "outputs": [],
   "source": [
    "def compute_logloss(df, params):\n",
    "    log_loss = []\n",
    "\n",
    "    for i, row in df.iterrows():      \n",
    "        if row.score == -1:\n",
    "            p_win, p_los = choix.probabilities([int(row.image_l), int(row.image_r)], params)\n",
    "        elif row.score == 1:\n",
    "            p_win, p_los = choix.probabilities([int(row.image_r), int(row.image_l)], params)\n",
    "            \n",
    "        if row.score == -1 or row.score == 1:\n",
    "            log_loss.append(np.log(p_win))\n",
    "            \n",
    "    return log_loss"
   ]
  },
  {
   "cell_type": "code",
   "execution_count": 15,
   "id": "54640930-bf43-40c9-b29b-da2ed67a898e",
   "metadata": {},
   "outputs": [],
   "source": [
    "def compute_accuracy(df, params):\n",
    "    accuracy = []\n",
    "    \n",
    "    for i, row in df.iterrows():\n",
    "        if row.score == -1:\n",
    "            p_win, p_los = choix.probabilities([int(row.image_l), int(row.image_r)], params)\n",
    "        elif row.score == 1:\n",
    "            p_win, p_los = choix.probabilities([int(row.image_r), int(row.image_l)], params)\n",
    "\n",
    "        if row.score == -1 or row.score == 1:\n",
    "            if p_win > p_los:\n",
    "                accuracy.append(1) \n",
    "            else:\n",
    "                accuracy.append(0)  \n",
    "\n",
    "    return accuracy"
   ]
  },
  {
   "cell_type": "code",
   "execution_count": 16,
   "id": "f0ad70c0-edfd-4412-84b6-016cd282a000",
   "metadata": {},
   "outputs": [],
   "source": [
    "log_loss_train_rc = compute_logloss(X_train[X_train.score != 0], params_rc)\n",
    "accuracy_train_rc = compute_accuracy(X_train[X_train.score != 0], params_rc)"
   ]
  },
  {
   "cell_type": "markdown",
   "id": "b405fc04-ab36-4a8d-b412-b65ab1205663",
   "metadata": {},
   "source": [
    "## Test"
   ]
  },
  {
   "cell_type": "markdown",
   "id": "95ef500a-e546-40e0-92af-1192773cb2c2",
   "metadata": {},
   "source": [
    "### Compute metrics for testing"
   ]
  },
  {
   "cell_type": "code",
   "execution_count": 17,
   "id": "a8d59628-12e3-444f-a540-9e53dfcc2e96",
   "metadata": {},
   "outputs": [],
   "source": [
    "log_loss_test_rc = compute_logloss(X_test[X_test.score != 0], params_rc)\n",
    "accuracy_test_rc = compute_accuracy(X_test[X_test.score != 0], params_rc)"
   ]
  },
  {
   "cell_type": "markdown",
   "id": "658f646f-efe4-4f17-a33d-57423625daa6",
   "metadata": {},
   "source": [
    "## Aggregate results"
   ]
  },
  {
   "cell_type": "code",
   "execution_count": 18,
   "id": "bfa86236-80e8-43be-873e-2f975993b271",
   "metadata": {},
   "outputs": [
    {
     "name": "stdout",
     "output_type": "stream",
     "text": [
      "{\n",
      "    \"model\": \"rankcentrality\",\n",
      "    \"train_logloss\": 0.6924919192478953,\n",
      "    \"test_logloss\": 0.6929265476900345,\n",
      "    \"train_accuracy\": 0.888623707239459,\n",
      "    \"test_accuracy\": 0.6459276018099548,\n",
      "    \"seed\": 5\n",
      "}\n"
     ]
    }
   ],
   "source": [
    "results = {\n",
    "    'model': 'rankcentrality',\n",
    "    'train_logloss': -1 * np.mean(log_loss_train_rc),\n",
    "    'test_logloss': -1 * np.mean(log_loss_test_rc),\n",
    "    'train_accuracy': np.mean(accuracy_train_rc),\n",
    "    'test_accuracy': np.mean(accuracy_test_rc),\n",
    "    'seed': _RANDOM_STATE\n",
    "}\n",
    "pickle.dump(results,  open('output/{}_modelresults_SEED{}.p'.format(results['model'], _RANDOM_STATE), 'wb'))\n",
    "print(json.dumps(results, indent=4))"
   ]
  },
  {
   "cell_type": "code",
   "execution_count": 19,
   "id": "c89e9cb1-cb42-4539-8630-6b70a38fe9b9",
   "metadata": {},
   "outputs": [],
   "source": [
    "pickle.dump(scores_df,  open('output/{}_scores_SEED{}.p'.format(results['model'], _RANDOM_STATE), 'wb'))"
   ]
  },
  {
   "cell_type": "markdown",
   "id": "90b894d7-954c-4d02-9b22-f7e0078610aa",
   "metadata": {},
   "source": [
    "# Luce Spectral Ranking"
   ]
  },
  {
   "cell_type": "markdown",
   "id": "06da41e5-b0ba-4006-a5ab-02341458055e",
   "metadata": {},
   "source": [
    "## Train"
   ]
  },
  {
   "cell_type": "code",
   "execution_count": 20,
   "id": "4e3fa8d1-6944-46c4-8145-7c191617dd9b",
   "metadata": {},
   "outputs": [],
   "source": [
    "params_lsr = choix.lsr_pairwise(n_items, data, alpha=1e-4)"
   ]
  },
  {
   "cell_type": "markdown",
   "id": "37c6d3c8-539e-4155-8729-0d553646a4a1",
   "metadata": {},
   "source": [
    "### Organize scores"
   ]
  },
  {
   "cell_type": "code",
   "execution_count": 21,
   "id": "768d2bd5-7eca-4d32-8053-b157e011b427",
   "metadata": {},
   "outputs": [],
   "source": [
    "scores = []\n",
    "for i, image_scores in enumerate(params_lsr):\n",
    "    scores.append({\n",
    "        'image': images_dict_rev[i], \n",
    "        'score': image_scores,\n",
    "        'image_id': images_dict_rev[i],\n",
    "        'image_path': os.path.join('..', '..', 'cycling_safety_objective', 'data_copy_from_storage','mapillary','berlin', images_dict_rev[i] + '.jpg' )\n",
    "    })\n",
    "scores_df = pd.DataFrame(scores).set_index('image', drop=False)"
   ]
  },
  {
   "cell_type": "markdown",
   "id": "3ee7b0ff-5d0f-47d9-bd41-d04ec3a23d27",
   "metadata": {},
   "source": [
    "### Compute metrics for training"
   ]
  },
  {
   "cell_type": "code",
   "execution_count": 22,
   "id": "287d597e-2a44-4347-937e-ae25df57eb9c",
   "metadata": {},
   "outputs": [],
   "source": [
    "log_loss_train_lsr = compute_logloss(X_train[X_train.score != 0], params_lsr)\n",
    "accuracy_train_lsr = compute_accuracy(X_train[X_train.score != 0], params_lsr)"
   ]
  },
  {
   "cell_type": "markdown",
   "id": "ca5d7d54-acbb-4638-9fc7-e2d2d007dedd",
   "metadata": {},
   "source": [
    "## Test"
   ]
  },
  {
   "cell_type": "markdown",
   "id": "6d70168e-ff46-4e26-bd72-0f0d98338113",
   "metadata": {
    "tags": []
   },
   "source": [
    "### Compute metrics for testing"
   ]
  },
  {
   "cell_type": "code",
   "execution_count": 23,
   "id": "42b77b32-dc65-4953-8cfa-fb283be7149a",
   "metadata": {},
   "outputs": [],
   "source": [
    "log_loss_test_lsr = compute_logloss(X_test[X_test.score != 0], params_lsr)\n",
    "accuracy_test_lsr = compute_accuracy(X_test[X_test.score != 0], params_lsr)"
   ]
  },
  {
   "cell_type": "markdown",
   "id": "a8327128-5b3b-492d-8dac-74854d2fe4c2",
   "metadata": {},
   "source": [
    "## Aggregate results"
   ]
  },
  {
   "cell_type": "code",
   "execution_count": 24,
   "id": "ade5cc06-606d-49c3-bffe-1e78e4a59541",
   "metadata": {},
   "outputs": [
    {
     "name": "stdout",
     "output_type": "stream",
     "text": [
      "{\n",
      "    \"model\": \"lucespectralranking\",\n",
      "    \"train_logloss\": 0.34809064003606344,\n",
      "    \"test_logloss\": 0.6270193981520985,\n",
      "    \"train_accuracy\": 0.9311853619729514,\n",
      "    \"test_accuracy\": 0.6481900452488688,\n",
      "    \"seed\": 5\n",
      "}\n"
     ]
    }
   ],
   "source": [
    "results = {\n",
    "    'model': 'lucespectralranking',\n",
    "    'train_logloss': -1 * np.mean(log_loss_train_lsr),\n",
    "    'test_logloss': -1 * np.mean(log_loss_test_lsr),\n",
    "    'train_accuracy': np.mean(accuracy_train_lsr),\n",
    "    'test_accuracy': np.mean(accuracy_test_lsr),\n",
    "    'seed': _RANDOM_STATE\n",
    "}\n",
    "pickle.dump(results,  open('output/{}_modelresults_SEED{}.p'.format(results['model'], _RANDOM_STATE), 'wb'))\n",
    "print(json.dumps(results, indent=4))"
   ]
  },
  {
   "cell_type": "code",
   "execution_count": 25,
   "id": "4f02c26d-0f41-4976-9703-9948419438c9",
   "metadata": {},
   "outputs": [],
   "source": [
    "pickle.dump(scores_df,  open('output/{}_scores_SEED{}.p'.format(results['model'], _RANDOM_STATE), 'wb'))"
   ]
  },
  {
   "cell_type": "code",
   "execution_count": null,
   "id": "5cded876-72b9-4e4b-b73c-e4bce4eeed4c",
   "metadata": {},
   "outputs": [],
   "source": []
  }
 ],
 "metadata": {
  "kernelspec": {
   "display_name": "Python 3 (ipykernel)",
   "language": "python",
   "name": "python3"
  },
  "language_info": {
   "codemirror_mode": {
    "name": "ipython",
    "version": 3
   },
   "file_extension": ".py",
   "mimetype": "text/x-python",
   "name": "python",
   "nbconvert_exporter": "python",
   "pygments_lexer": "ipython3",
   "version": "3.9.7"
  }
 },
 "nbformat": 4,
 "nbformat_minor": 5
}
