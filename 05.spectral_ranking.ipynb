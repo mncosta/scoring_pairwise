{
 "cells": [
  {
   "cell_type": "code",
   "execution_count": 1,
   "id": "788943cc-4939-4140-bea8-3d2e67261dfe",
   "metadata": {},
   "outputs": [],
   "source": [
    "import choix\n",
    "import json\n",
    "import networkx as nx\n",
    "import numpy as np\n",
    "import os\n",
    "import pandas as pd\n",
    "import pickle\n",
    "from sklearn.model_selection import train_test_split"
   ]
  },
  {
   "cell_type": "code",
   "execution_count": 2,
   "id": "4911e6ca-8bd9-4520-ae7a-8bbf61e275d2",
   "metadata": {},
   "outputs": [],
   "source": [
    "_RANDOM_STATE = 5"
   ]
  },
  {
   "cell_type": "markdown",
   "id": "1d828520-7d54-4801-bc67-80f3f1f98b60",
   "metadata": {},
   "source": [
    "# Data"
   ]
  },
  {
   "cell_type": "code",
   "execution_count": 3,
   "id": "7825b9c2-4ca8-4608-8468-fd322fe6500d",
   "metadata": {},
   "outputs": [
    {
     "name": "stdout",
     "output_type": "stream",
     "text": [
      "(7281, 12)\n"
     ]
    }
   ],
   "source": [
    "comparisons = pickle.load(open('data/comparisons_berlin.p', 'rb'))\n",
    "print(comparisons.shape)"
   ]
  },
  {
   "cell_type": "code",
   "execution_count": 4,
   "id": "125d84ba-9d17-4d04-8e03-5ff59a45746b",
   "metadata": {},
   "outputs": [],
   "source": [
    "n_items = len(pd.unique(comparisons[['image_l', 'image_r']].values.ravel('K')))"
   ]
  },
  {
   "cell_type": "code",
   "execution_count": 5,
   "id": "c9feef32-1944-4ae1-86b4-f9dc8649294d",
   "metadata": {},
   "outputs": [],
   "source": [
    "images = pd.unique(comparisons[['image_l', 'image_r']].values.ravel('K'))"
   ]
  },
  {
   "cell_type": "code",
   "execution_count": 6,
   "id": "bb3f7fb3-8037-4c2a-9ddf-9c4cb2364918",
   "metadata": {},
   "outputs": [],
   "source": [
    "images_dict = {}\n",
    "images_dict_rev = {}\n",
    "for i, image_id in enumerate(images):\n",
    "    images_dict[image_id] = i\n",
    "    images_dict_rev[i] = image_id"
   ]
  },
  {
   "cell_type": "code",
   "execution_count": 7,
   "id": "1ac9ab06-e28f-40d4-9a84-f112c90e6f7a",
   "metadata": {},
   "outputs": [],
   "source": [
    "comparisons=comparisons.replace({\"image_l\": images_dict})\n",
    "comparisons=comparisons.replace({\"image_r\": images_dict})\n",
    "comparisons=comparisons.replace({\"Winner\": images_dict})\n",
    "comparisons=comparisons.replace({\"Loser\": images_dict})"
   ]
  },
  {
   "cell_type": "markdown",
   "id": "6fedfb96-d31f-4def-9ab6-c21c08f3f6ec",
   "metadata": {},
   "source": [
    "Split data into training and testing"
   ]
  },
  {
   "cell_type": "code",
   "execution_count": 8,
   "id": "8f40c22f-0864-4209-8a46-5cf2ff494c3a",
   "metadata": {},
   "outputs": [],
   "source": [
    "X_train, X_test, = train_test_split(comparisons, test_size=0.15, random_state=_RANDOM_STATE, )# shuffle=False)"
   ]
  },
  {
   "cell_type": "markdown",
   "id": "23e0836a-28b9-420e-958b-b29b25215eab",
   "metadata": {},
   "source": [
    "Setup data for training"
   ]
  },
  {
   "cell_type": "code",
   "execution_count": 9,
   "id": "9efa9c21-2093-4e1a-b27f-278632027869",
   "metadata": {},
   "outputs": [],
   "source": [
    "data = []\n",
    "for i, row in X_train.iterrows():\n",
    "    if not row.Tie:\n",
    "        data.append((int(row.Winner), int(row.Loser)))\n",
    "\n",
    "    if row.Tie:\n",
    "        data.append((row.Winner, row.Loser))\n",
    "        data.append((row.Loser, row.Winner))"
   ]
  },
  {
   "cell_type": "markdown",
   "id": "3f96dab2-90b0-42d1-9798-8a0a0684adfc",
   "metadata": {},
   "source": [
    "# Rank Centrality"
   ]
  },
  {
   "cell_type": "markdown",
   "id": "1fe7b6ed-d145-49f8-82de-d0ba94bd6f8f",
   "metadata": {},
   "source": [
    "## Train"
   ]
  },
  {
   "cell_type": "code",
   "execution_count": 10,
   "id": "1b23a5bc-1c6f-4f2c-af70-ac3c83b2898c",
   "metadata": {},
   "outputs": [],
   "source": [
    "params_rc = choix.rank_centrality(n_items, data, alpha=1e-4)"
   ]
  },
  {
   "cell_type": "markdown",
   "id": "c697230e-7c12-44b3-8187-6844b6a9be25",
   "metadata": {},
   "source": [
    "### Organize scores"
   ]
  },
  {
   "cell_type": "code",
   "execution_count": 11,
   "id": "52f048a9-02c7-404b-a332-ec2f6a345049",
   "metadata": {},
   "outputs": [],
   "source": [
    "scores = []\n",
    "for i, image_scores in enumerate(params_rc):\n",
    "    scores.append({\n",
    "        'image': images_dict_rev[i], \n",
    "        'score': image_scores,\n",
    "        'image_id': images_dict_rev[i],\n",
    "        'image_path': os.path.join('..', '..', 'cycling_safety_objective', 'data_copy_from_storage','mapillary','berlin', images_dict_rev[i] + '.jpg' )\n",
    "    })\n",
    "scores_df = pd.DataFrame(scores).set_index('image', drop=False)"
   ]
  },
  {
   "cell_type": "markdown",
   "id": "b3477c01-9609-45d3-bfce-df1acddc2cca",
   "metadata": {},
   "source": [
    "### Compute metrics for training"
   ]
  },
  {
   "cell_type": "code",
   "execution_count": 12,
   "id": "8e990998-64d7-44e6-a325-3e8639ade21d",
   "metadata": {},
   "outputs": [],
   "source": [
    "#def compute_probabilities(rating_a, rating_b, tie_margin=0):\n",
    "#    tie_margin = np.exp(tie_margin)\n",
    "#    probability_a = np.exp(rating_a)/(np.exp(rating_a) + tie_margin * np.exp(rating_b))\n",
    "#    probability_b = np.exp(rating_b)/(np.exp(rating_b) + tie_margin * np.exp(rating_a))\n",
    "#    probability_tie = ((tie_margin**2 - 1) * (np.exp(rating_a)*np.exp(rating_b))) / ((np.exp(rating_a) + tie_margin * np.exp(rating_b)) * (np.exp(rating_b) + tie_margin * np.exp(rating_a)))\n",
    "#\n",
    "#    return probability_a, probability_b, probability_tie"
   ]
  },
  {
   "cell_type": "code",
   "execution_count": 13,
   "id": "57370cc2-280e-4dfa-bede-3d3fbe0e2d84",
   "metadata": {},
   "outputs": [],
   "source": [
    "def compute_logloss(df, params):\n",
    "    log_loss = []\n",
    "\n",
    "    for i, row in df.iterrows():\n",
    "        try:\n",
    "            rating_l = params[int(images_dict[str(row.image_l)])]\n",
    "            rating_r = params[int(images_dict[str(row.image_r)])]\n",
    "         \n",
    "            if row.score == -1:\n",
    "                p_win, p_los = choix.probabilities([int(images_dict[str(row.image_l)]), int(images_dict[str(row.image_r)])], params)\n",
    "                # p_win, p_los, p_tie = compute_probabilities(rating_l, rating_r, tie_margin=.2)\n",
    "            elif row.score == 1:\n",
    "                p_win, p_los = choix.probabilities([int(images_dict[str(row.image_r)]), int(images_dict[str(row.image_l)])], params)\n",
    "                # p_win, p_los, p_tie = compute_probabilities(rating_r, rating_l, tie_margin=.2)\n",
    "            # elif row.score == 0:\n",
    "            #     # p_win, p_los = choix.probabilities([int(images_dict[str(row.image_r)]), int(images_dict[str(row.image_l)])], params)\n",
    "            #     p_win, p_los, p_tie = compute_probabilities(rating_r, rating_l, tie_margin=.2)\n",
    "        except KeyError:\n",
    "            continue\n",
    "            \n",
    "        if row.score == -1 or row.score == 1:\n",
    "            log_loss.append(np.log(p_win))\n",
    "    return log_loss"
   ]
  },
  {
   "cell_type": "code",
   "execution_count": 14,
   "id": "54640930-bf43-40c9-b29b-da2ed67a898e",
   "metadata": {},
   "outputs": [],
   "source": [
    "def compute_accuracy(df, params):\n",
    "    accuracy = []\n",
    "    \n",
    "    for i, row in df.iterrows():\n",
    "        try:\n",
    "            rating_l = params[int(images_dict[str(row.image_l)])]\n",
    "            rating_r = params[int(images_dict[str(row.image_r)])]\n",
    "         \n",
    "            if row.score == -1:\n",
    "                p_win, p_los = choix.probabilities([int(images_dict[str(row.image_l)]), int(images_dict[str(row.image_r)])], params)\n",
    "                # p_win, p_los, p_tie = compute_probabilities(rating_l, rating_r, tie_margin=.2)\n",
    "            elif row.score == 1:\n",
    "                p_win, p_los = choix.probabilities([int(images_dict[str(row.image_r)]), int(images_dict[str(row.image_l)])], params)\n",
    "                # p_win, p_los, p_tie = compute_probabilities(rating_r, rating_l, tie_margin=.2)\n",
    "            # elif row.score == 0:\n",
    "            #     # p_win, p_los = choix.probabilities([int(images_dict[str(row.image_r)]), int(images_dict[str(row.image_l)])], params)\n",
    "            #     p_win, p_los, p_tie = compute_probabilities(rating_r, rating_l, tie_margin=.2)\n",
    "                \n",
    "        except KeyError:\n",
    "            continue\n",
    "        \n",
    "        if row.score == -1 or row.score == 1:\n",
    "            if p_win > p_los:\n",
    "                accuracy.append(1) \n",
    "            else:\n",
    "                accuracy.append(0)  \n",
    "    return accuracy"
   ]
  },
  {
   "cell_type": "code",
   "execution_count": 15,
   "id": "f0ad70c0-edfd-4412-84b6-016cd282a000",
   "metadata": {},
   "outputs": [],
   "source": [
    "log_loss_train_rc = compute_logloss(X_train[X_train.score != 0], params_rc)\n",
    "accuracy_train_rc = compute_accuracy(X_train[X_train.score != 0], params_rc)"
   ]
  },
  {
   "cell_type": "markdown",
   "id": "b405fc04-ab36-4a8d-b412-b65ab1205663",
   "metadata": {},
   "source": [
    "## Test"
   ]
  },
  {
   "cell_type": "markdown",
   "id": "95ef500a-e546-40e0-92af-1192773cb2c2",
   "metadata": {},
   "source": [
    "### Compute metrics for testing"
   ]
  },
  {
   "cell_type": "code",
   "execution_count": 16,
   "id": "a8d59628-12e3-444f-a540-9e53dfcc2e96",
   "metadata": {},
   "outputs": [],
   "source": [
    "log_loss_test_rc = compute_logloss(X_test[X_test.score != 0], params_rc)\n",
    "accuracy_test_rc = compute_accuracy(X_test[X_test.score != 0], params_rc)"
   ]
  },
  {
   "cell_type": "markdown",
   "id": "658f646f-efe4-4f17-a33d-57423625daa6",
   "metadata": {},
   "source": [
    "## Aggregate results"
   ]
  },
  {
   "cell_type": "code",
   "execution_count": 17,
   "id": "bfa86236-80e8-43be-873e-2f975993b271",
   "metadata": {},
   "outputs": [
    {
     "name": "stdout",
     "output_type": "stream",
     "text": [
      "{\n",
      "    \"model\": \"rankcentrality\",\n",
      "    \"train_logloss\": 0.6931820336485601,\n",
      "    \"test_logloss\": 0.6931832033562443,\n",
      "    \"train_accuracy\": 0.4797979797979798,\n",
      "    \"test_accuracy\": 0.453125,\n",
      "    \"seed\": 5\n",
      "}\n"
     ]
    }
   ],
   "source": [
    "results = {\n",
    "    'model': 'rankcentrality',\n",
    "    'train_logloss': -1 * np.mean(log_loss_train_rc),\n",
    "    'test_logloss': -1 * np.mean(log_loss_test_rc),\n",
    "    'train_accuracy': np.mean(accuracy_train_rc),\n",
    "    'test_accuracy': np.mean(accuracy_test_rc),\n",
    "    'seed': _RANDOM_STATE\n",
    "}\n",
    "pickle.dump(results,  open('output/{}_modelresults_SEED{}.p'.format(results['model'], _RANDOM_STATE), 'wb'))\n",
    "print(json.dumps(results, indent=4))"
   ]
  },
  {
   "cell_type": "code",
   "execution_count": 18,
   "id": "c89e9cb1-cb42-4539-8630-6b70a38fe9b9",
   "metadata": {},
   "outputs": [],
   "source": [
    "pickle.dump(scores_df,  open('output/{}_scores_SEED{}.p'.format(results['model'], _RANDOM_STATE), 'wb'))"
   ]
  },
  {
   "cell_type": "markdown",
   "id": "90b894d7-954c-4d02-9b22-f7e0078610aa",
   "metadata": {},
   "source": [
    "# Luce Spectral Ranking"
   ]
  },
  {
   "cell_type": "markdown",
   "id": "06da41e5-b0ba-4006-a5ab-02341458055e",
   "metadata": {},
   "source": [
    "## Train"
   ]
  },
  {
   "cell_type": "code",
   "execution_count": 19,
   "id": "4e3fa8d1-6944-46c4-8145-7c191617dd9b",
   "metadata": {},
   "outputs": [],
   "source": [
    "params_lsr = choix.lsr_pairwise(n_items, data, alpha=1e-4)"
   ]
  },
  {
   "cell_type": "markdown",
   "id": "37c6d3c8-539e-4155-8729-0d553646a4a1",
   "metadata": {},
   "source": [
    "### Organize scores"
   ]
  },
  {
   "cell_type": "code",
   "execution_count": 20,
   "id": "768d2bd5-7eca-4d32-8053-b157e011b427",
   "metadata": {},
   "outputs": [],
   "source": [
    "scores = []\n",
    "for i, image_scores in enumerate(params_lsr):\n",
    "    scores.append({\n",
    "        'image': images_dict_rev[i], \n",
    "        'score': image_scores,\n",
    "        'image_id': images_dict_rev[i],\n",
    "        'image_path': os.path.join('..', '..', 'cycling_safety_objective', 'data_copy_from_storage','mapillary','berlin', images_dict_rev[i] + '.jpg' )\n",
    "    })\n",
    "scores_df = pd.DataFrame(scores).set_index('image', drop=False)"
   ]
  },
  {
   "cell_type": "markdown",
   "id": "3ee7b0ff-5d0f-47d9-bd41-d04ec3a23d27",
   "metadata": {},
   "source": [
    "### Compute metrics for training"
   ]
  },
  {
   "cell_type": "code",
   "execution_count": 21,
   "id": "287d597e-2a44-4347-937e-ae25df57eb9c",
   "metadata": {},
   "outputs": [],
   "source": [
    "log_loss_train_lsr = compute_logloss(X_train[X_train.score != 0], params_lsr)\n",
    "accuracy_train_lsr = compute_accuracy(X_train[X_train.score != 0], params_lsr)"
   ]
  },
  {
   "cell_type": "markdown",
   "id": "ca5d7d54-acbb-4638-9fc7-e2d2d007dedd",
   "metadata": {},
   "source": [
    "## Test"
   ]
  },
  {
   "cell_type": "markdown",
   "id": "6d70168e-ff46-4e26-bd72-0f0d98338113",
   "metadata": {
    "tags": []
   },
   "source": [
    "### Compute metrics for testing"
   ]
  },
  {
   "cell_type": "code",
   "execution_count": 22,
   "id": "42b77b32-dc65-4953-8cfa-fb283be7149a",
   "metadata": {},
   "outputs": [],
   "source": [
    "log_loss_test_lsr = compute_logloss(X_test[X_test.score != 0], params_lsr)\n",
    "accuracy_test_lsr = compute_accuracy(X_test[X_test.score != 0], params_lsr)"
   ]
  },
  {
   "cell_type": "markdown",
   "id": "a8327128-5b3b-492d-8dac-74854d2fe4c2",
   "metadata": {},
   "source": [
    "## Aggregate results"
   ]
  },
  {
   "cell_type": "code",
   "execution_count": 23,
   "id": "ade5cc06-606d-49c3-bffe-1e78e4a59541",
   "metadata": {},
   "outputs": [
    {
     "name": "stdout",
     "output_type": "stream",
     "text": [
      "{\n",
      "    \"model\": \"lucespectralranking\",\n",
      "    \"train_logloss\": 0.8442209909946851,\n",
      "    \"test_logloss\": 0.8318830648552918,\n",
      "    \"train_accuracy\": 0.47373737373737373,\n",
      "    \"test_accuracy\": 0.4583333333333333,\n",
      "    \"seed\": 5\n",
      "}\n"
     ]
    }
   ],
   "source": [
    "results = {\n",
    "    'model': 'lucespectralranking',\n",
    "    'train_logloss': -1 * np.mean(log_loss_train_lsr),\n",
    "    'test_logloss': -1 * np.mean(log_loss_test_lsr),\n",
    "    'train_accuracy': np.mean(accuracy_train_lsr),\n",
    "    'test_accuracy': np.mean(accuracy_test_lsr),\n",
    "    'seed': _RANDOM_STATE\n",
    "}\n",
    "pickle.dump(results,  open('output/{}_modelresults_SEED{}.p'.format(results['model'], _RANDOM_STATE), 'wb'))\n",
    "print(json.dumps(results, indent=4))"
   ]
  },
  {
   "cell_type": "code",
   "execution_count": 24,
   "id": "4f02c26d-0f41-4976-9703-9948419438c9",
   "metadata": {},
   "outputs": [],
   "source": [
    "pickle.dump(scores_df,  open('output/{}_scores_SEED{}.p'.format(results['model'], _RANDOM_STATE), 'wb'))"
   ]
  },
  {
   "cell_type": "code",
   "execution_count": null,
   "id": "5cded876-72b9-4e4b-b73c-e4bce4eeed4c",
   "metadata": {},
   "outputs": [],
   "source": []
  }
 ],
 "metadata": {
  "kernelspec": {
   "display_name": "Python 3 (ipykernel)",
   "language": "python",
   "name": "python3"
  },
  "language_info": {
   "codemirror_mode": {
    "name": "ipython",
    "version": 3
   },
   "file_extension": ".py",
   "mimetype": "text/x-python",
   "name": "python",
   "nbconvert_exporter": "python",
   "pygments_lexer": "ipython3",
   "version": "3.10.8"
  }
 },
 "nbformat": 4,
 "nbformat_minor": 5
}
